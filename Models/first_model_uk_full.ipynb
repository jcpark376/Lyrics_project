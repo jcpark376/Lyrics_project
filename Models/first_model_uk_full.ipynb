{
 "metadata": {
  "language_info": {
   "codemirror_mode": {
    "name": "ipython",
    "version": 3
   },
   "file_extension": ".py",
   "mimetype": "text/x-python",
   "name": "python",
   "nbconvert_exporter": "python",
   "pygments_lexer": "ipython3",
   "version": "3.8.3-final"
  },
  "orig_nbformat": 2,
  "kernelspec": {
   "name": "python3",
   "display_name": "Python 3"
  }
 },
 "nbformat": 4,
 "nbformat_minor": 2,
 "cells": [
  {
   "source": [
    "## Purpose of first model\n",
    "The purpose of the FINAL model is to do topic modeling of both hits in the US and the UK and comparing them.\n",
    "However, this first, simple, prelimiary model will do just the US, dropping the NaN rows (currently trying to find ways to fill them in the webscraper module).\n",
    "\n"
   ],
   "cell_type": "markdown",
   "metadata": {}
  },
  {
   "cell_type": "code",
   "execution_count": 1,
   "metadata": {},
   "outputs": [],
   "source": [
    "import pickle\n",
    "import pandas as pd\n",
    "\n",
    "import re\n",
    "import string\n",
    "from nltk.corpus import stopwords\n",
    "from nltk.stem import WordNetLemmatizer\n",
    "\n",
    "from sklearn.feature_extraction.text import CountVectorizer\n",
    "from sklearn.feature_extraction.text import TfidfVectorizer\n",
    "\n",
    "from sklearn.decomposition import TruncatedSVD\n",
    "from sklearn.decomposition import NMF\n",
    "from sklearn.decomposition import LatentDirichletAllocation"
   ]
  },
  {
   "cell_type": "code",
   "execution_count": 2,
   "metadata": {},
   "outputs": [],
   "source": [
    "file = open('../Webscraper/uk_pops_raw', 'rb')\n",
    "uk_pops = pickle.load(file)\n",
    "uk_pops.dropna(inplace=True)\n",
    "uk_pops = uk_pops['Lyrics']"
   ]
  },
  {
   "cell_type": "code",
   "execution_count": 3,
   "metadata": {},
   "outputs": [
    {
     "output_type": "execute_result",
     "data": {
      "text/plain": [
       "0       0-9\\n10 Years\\n100 Demons\\n1000 Homo DJs\\n12 S...\n",
       "1       So you want\\nTo be free?\\nTo live your life\\nT...\n",
       "2       Whoa, my love\\nMy darling\\nI've hungered for y...\n",
       "3       It's been seven hours and fifteen days\\nSince ...\n",
       "4       There you go\\nFlashing fever from your eyes\\nH...\n",
       "                              ...                        \n",
       "2793    Te prometo que nunca encontrarás a alguien igu...\n",
       "2794    Baby when it comes to love, it should be mutua...\n",
       "2795    Searchin' every corner of my mind\\nLookin' for...\n",
       "2796    Ik bel je één keer, twee keer‚ drie keer\\nIk  ...\n",
       "2797    All my life I've been a good girl\\nTryna do wh...\n",
       "Name: Lyrics, Length: 2641, dtype: object"
      ]
     },
     "metadata": {},
     "execution_count": 3
    }
   ],
   "source": [
    "uk_pops"
   ]
  },
  {
   "cell_type": "code",
   "execution_count": 4,
   "metadata": {},
   "outputs": [],
   "source": [
    "# only keep alphanumeric, remove newlines, and make everything lowercase\n",
    "alphanumeric = lambda x: re.sub('\\w*\\d\\w*', ' ', x)\n",
    "rm_newline = lambda x: re.sub(\"\\n\", ' ',x)\n",
    "punc_lower = lambda x: re.sub('[%s]' % re.escape(string.punctuation), ' ', x.lower())\n",
    "\n",
    "uk_pops_nopunc = uk_pops.map(alphanumeric).map(rm_newline).map(punc_lower)"
   ]
  },
  {
   "cell_type": "code",
   "execution_count": 5,
   "metadata": {},
   "outputs": [],
   "source": [
    "# lemmatize. do this by turning every line into a list of words, and concat back to full lyrics\n",
    "uk_pops_list = uk_pops_nopunc.apply(lambda x: x.split(' '))\n",
    "\n",
    "def lemmatize(list_of_words):\n",
    "    lmt = WordNetLemmatizer()\n",
    "    strg = ''\n",
    "    for word in list_of_words:\n",
    "        lem_word = lmt.lemmatize(word)\n",
    "        if len(lem_word) > 2:\n",
    "            strg += lem_word + ' '\n",
    "    return strg\n",
    "        \n",
    "\n",
    "uk_pops_clean = uk_pops_list.apply(lemmatize)"
   ]
  },
  {
   "cell_type": "code",
   "execution_count": null,
   "metadata": {},
   "outputs": [],
   "source": []
  },
  {
   "cell_type": "code",
   "execution_count": null,
   "metadata": {},
   "outputs": [],
   "source": []
  },
  {
   "cell_type": "code",
   "execution_count": null,
   "metadata": {},
   "outputs": [],
   "source": []
  },
  {
   "cell_type": "code",
   "execution_count": 6,
   "metadata": {},
   "outputs": [],
   "source": [
    "cv = CountVectorizer(\n",
    "    stop_words = 'english',\n",
    "    max_df = 0.2,\n",
    "    min_df = 0.005\n",
    ")\n",
    "X = cv.fit_transform(uk_pops_clean)\n",
    "doc_term_matrix = pd.DataFrame(X.toarray(), columns=cv.get_feature_names())"
   ]
  },
  {
   "cell_type": "code",
   "execution_count": 7,
   "metadata": {},
   "outputs": [
    {
     "output_type": "execute_result",
     "data": {
      "text/plain": [
       "      aah  abandoned  ability  able  abode  abraham  abroad  absence  absent  \\\n",
       "0       0          1        0     0      0        0       0        0       0   \n",
       "1       0          0        0     0      0        0       0        0       0   \n",
       "2       0          0        0     0      0        0       0        0       0   \n",
       "3       0          0        0     0      0        0       0        0       0   \n",
       "4       0          0        0     0      0        0       0        0       0   \n",
       "...   ...        ...      ...   ...    ...      ...     ...      ...     ...   \n",
       "2636    0          0        0     0      0        0       0        0       0   \n",
       "2637    0          0        0     0      0        0       0        0       0   \n",
       "2638    0          0        0     0      0        0       0        0       0   \n",
       "2639    0          0        0     0      0        0       0        0       0   \n",
       "2640    0          0        0     0      0        0       0        0       0   \n",
       "\n",
       "      absolute  ...  york  young  younger  youth  youthful  yup  zero  zombie  \\\n",
       "0            0  ...     0      3        0      0         0    0     2       2   \n",
       "1            0  ...     0      0        0      0         0    0     0       0   \n",
       "2            0  ...     0      0        0      0         0    0     0       0   \n",
       "3            0  ...     0      0        0      0         0    0     0       0   \n",
       "4            0  ...     0      0        0      0         0    0     0       0   \n",
       "...        ...  ...   ...    ...      ...    ...       ...  ...   ...     ...   \n",
       "2636         0  ...     0      0        0      0         0    0     0       0   \n",
       "2637         0  ...     0      0        0      0         0    0     0       0   \n",
       "2638         0  ...     0      1        0      1         0    0     0       0   \n",
       "2639         0  ...     0      0        0      0         0    0     0       0   \n",
       "2640         0  ...     0      0        0      0         0    0     0       0   \n",
       "\n",
       "      zone  zoo  \n",
       "0        0    0  \n",
       "1        0    0  \n",
       "2        0    0  \n",
       "3        0    0  \n",
       "4        0    0  \n",
       "...    ...  ...  \n",
       "2636     0    0  \n",
       "2637     0    0  \n",
       "2638     0    0  \n",
       "2639     0    0  \n",
       "2640     0    0  \n",
       "\n",
       "[2641 rows x 4867 columns]"
      ],
      "text/html": "<div>\n<style scoped>\n    .dataframe tbody tr th:only-of-type {\n        vertical-align: middle;\n    }\n\n    .dataframe tbody tr th {\n        vertical-align: top;\n    }\n\n    .dataframe thead th {\n        text-align: right;\n    }\n</style>\n<table border=\"1\" class=\"dataframe\">\n  <thead>\n    <tr style=\"text-align: right;\">\n      <th></th>\n      <th>aah</th>\n      <th>abandoned</th>\n      <th>ability</th>\n      <th>able</th>\n      <th>abode</th>\n      <th>abraham</th>\n      <th>abroad</th>\n      <th>absence</th>\n      <th>absent</th>\n      <th>absolute</th>\n      <th>...</th>\n      <th>york</th>\n      <th>young</th>\n      <th>younger</th>\n      <th>youth</th>\n      <th>youthful</th>\n      <th>yup</th>\n      <th>zero</th>\n      <th>zombie</th>\n      <th>zone</th>\n      <th>zoo</th>\n    </tr>\n  </thead>\n  <tbody>\n    <tr>\n      <th>0</th>\n      <td>0</td>\n      <td>1</td>\n      <td>0</td>\n      <td>0</td>\n      <td>0</td>\n      <td>0</td>\n      <td>0</td>\n      <td>0</td>\n      <td>0</td>\n      <td>0</td>\n      <td>...</td>\n      <td>0</td>\n      <td>3</td>\n      <td>0</td>\n      <td>0</td>\n      <td>0</td>\n      <td>0</td>\n      <td>2</td>\n      <td>2</td>\n      <td>0</td>\n      <td>0</td>\n    </tr>\n    <tr>\n      <th>1</th>\n      <td>0</td>\n      <td>0</td>\n      <td>0</td>\n      <td>0</td>\n      <td>0</td>\n      <td>0</td>\n      <td>0</td>\n      <td>0</td>\n      <td>0</td>\n      <td>0</td>\n      <td>...</td>\n      <td>0</td>\n      <td>0</td>\n      <td>0</td>\n      <td>0</td>\n      <td>0</td>\n      <td>0</td>\n      <td>0</td>\n      <td>0</td>\n      <td>0</td>\n      <td>0</td>\n    </tr>\n    <tr>\n      <th>2</th>\n      <td>0</td>\n      <td>0</td>\n      <td>0</td>\n      <td>0</td>\n      <td>0</td>\n      <td>0</td>\n      <td>0</td>\n      <td>0</td>\n      <td>0</td>\n      <td>0</td>\n      <td>...</td>\n      <td>0</td>\n      <td>0</td>\n      <td>0</td>\n      <td>0</td>\n      <td>0</td>\n      <td>0</td>\n      <td>0</td>\n      <td>0</td>\n      <td>0</td>\n      <td>0</td>\n    </tr>\n    <tr>\n      <th>3</th>\n      <td>0</td>\n      <td>0</td>\n      <td>0</td>\n      <td>0</td>\n      <td>0</td>\n      <td>0</td>\n      <td>0</td>\n      <td>0</td>\n      <td>0</td>\n      <td>0</td>\n      <td>...</td>\n      <td>0</td>\n      <td>0</td>\n      <td>0</td>\n      <td>0</td>\n      <td>0</td>\n      <td>0</td>\n      <td>0</td>\n      <td>0</td>\n      <td>0</td>\n      <td>0</td>\n    </tr>\n    <tr>\n      <th>4</th>\n      <td>0</td>\n      <td>0</td>\n      <td>0</td>\n      <td>0</td>\n      <td>0</td>\n      <td>0</td>\n      <td>0</td>\n      <td>0</td>\n      <td>0</td>\n      <td>0</td>\n      <td>...</td>\n      <td>0</td>\n      <td>0</td>\n      <td>0</td>\n      <td>0</td>\n      <td>0</td>\n      <td>0</td>\n      <td>0</td>\n      <td>0</td>\n      <td>0</td>\n      <td>0</td>\n    </tr>\n    <tr>\n      <th>...</th>\n      <td>...</td>\n      <td>...</td>\n      <td>...</td>\n      <td>...</td>\n      <td>...</td>\n      <td>...</td>\n      <td>...</td>\n      <td>...</td>\n      <td>...</td>\n      <td>...</td>\n      <td>...</td>\n      <td>...</td>\n      <td>...</td>\n      <td>...</td>\n      <td>...</td>\n      <td>...</td>\n      <td>...</td>\n      <td>...</td>\n      <td>...</td>\n      <td>...</td>\n      <td>...</td>\n    </tr>\n    <tr>\n      <th>2636</th>\n      <td>0</td>\n      <td>0</td>\n      <td>0</td>\n      <td>0</td>\n      <td>0</td>\n      <td>0</td>\n      <td>0</td>\n      <td>0</td>\n      <td>0</td>\n      <td>0</td>\n      <td>...</td>\n      <td>0</td>\n      <td>0</td>\n      <td>0</td>\n      <td>0</td>\n      <td>0</td>\n      <td>0</td>\n      <td>0</td>\n      <td>0</td>\n      <td>0</td>\n      <td>0</td>\n    </tr>\n    <tr>\n      <th>2637</th>\n      <td>0</td>\n      <td>0</td>\n      <td>0</td>\n      <td>0</td>\n      <td>0</td>\n      <td>0</td>\n      <td>0</td>\n      <td>0</td>\n      <td>0</td>\n      <td>0</td>\n      <td>...</td>\n      <td>0</td>\n      <td>0</td>\n      <td>0</td>\n      <td>0</td>\n      <td>0</td>\n      <td>0</td>\n      <td>0</td>\n      <td>0</td>\n      <td>0</td>\n      <td>0</td>\n    </tr>\n    <tr>\n      <th>2638</th>\n      <td>0</td>\n      <td>0</td>\n      <td>0</td>\n      <td>0</td>\n      <td>0</td>\n      <td>0</td>\n      <td>0</td>\n      <td>0</td>\n      <td>0</td>\n      <td>0</td>\n      <td>...</td>\n      <td>0</td>\n      <td>1</td>\n      <td>0</td>\n      <td>1</td>\n      <td>0</td>\n      <td>0</td>\n      <td>0</td>\n      <td>0</td>\n      <td>0</td>\n      <td>0</td>\n    </tr>\n    <tr>\n      <th>2639</th>\n      <td>0</td>\n      <td>0</td>\n      <td>0</td>\n      <td>0</td>\n      <td>0</td>\n      <td>0</td>\n      <td>0</td>\n      <td>0</td>\n      <td>0</td>\n      <td>0</td>\n      <td>...</td>\n      <td>0</td>\n      <td>0</td>\n      <td>0</td>\n      <td>0</td>\n      <td>0</td>\n      <td>0</td>\n      <td>0</td>\n      <td>0</td>\n      <td>0</td>\n      <td>0</td>\n    </tr>\n    <tr>\n      <th>2640</th>\n      <td>0</td>\n      <td>0</td>\n      <td>0</td>\n      <td>0</td>\n      <td>0</td>\n      <td>0</td>\n      <td>0</td>\n      <td>0</td>\n      <td>0</td>\n      <td>0</td>\n      <td>...</td>\n      <td>0</td>\n      <td>0</td>\n      <td>0</td>\n      <td>0</td>\n      <td>0</td>\n      <td>0</td>\n      <td>0</td>\n      <td>0</td>\n      <td>0</td>\n      <td>0</td>\n    </tr>\n  </tbody>\n</table>\n<p>2641 rows × 4867 columns</p>\n</div>"
     },
     "metadata": {},
     "execution_count": 7
    }
   ],
   "source": [
    "doc_term_matrix"
   ]
  },
  {
   "cell_type": "code",
   "execution_count": null,
   "metadata": {},
   "outputs": [],
   "source": []
  },
  {
   "cell_type": "code",
   "execution_count": null,
   "metadata": {},
   "outputs": [],
   "source": []
  },
  {
   "cell_type": "code",
   "execution_count": 8,
   "metadata": {},
   "outputs": [],
   "source": [
    "from sklearn.feature_extraction import text"
   ]
  },
  {
   "cell_type": "code",
   "execution_count": 9,
   "metadata": {},
   "outputs": [],
   "source": [
    "stop_words_added = text.ENGLISH_STOP_WORDS.union(['huh','woo','whoa','hey','hold','ooh','aah','whoa','oooh','ayy','hoo'])\n",
    "# stop_words_custom = frozenset({'huh','woo','whoa','hey','hold'})"
   ]
  },
  {
   "cell_type": "code",
   "execution_count": 50,
   "metadata": {},
   "outputs": [],
   "source": [
    "tfidf =  TfidfVectorizer(\n",
    "    stop_words = stop_words_added,\n",
    "    max_df = 0.2,\n",
    "    min_df = 0.005\n",
    ")\n",
    "Y = tfidf.fit_transform(uk_pops_clean)\n",
    "doc_term_matrix2 = pd.DataFrame(Y.toarray(), columns=tfidf.get_feature_names())\n"
   ]
  },
  {
   "cell_type": "code",
   "execution_count": 51,
   "metadata": {},
   "outputs": [
    {
     "output_type": "execute_result",
     "data": {
      "text/plain": [
       "      abandoned  ability  able  abode  abraham  abroad  absence  absent  \\\n",
       "0      0.016056      0.0   0.0    0.0      0.0     0.0      0.0     0.0   \n",
       "1      0.000000      0.0   0.0    0.0      0.0     0.0      0.0     0.0   \n",
       "2      0.000000      0.0   0.0    0.0      0.0     0.0      0.0     0.0   \n",
       "3      0.000000      0.0   0.0    0.0      0.0     0.0      0.0     0.0   \n",
       "4      0.000000      0.0   0.0    0.0      0.0     0.0      0.0     0.0   \n",
       "...         ...      ...   ...    ...      ...     ...      ...     ...   \n",
       "2636   0.000000      0.0   0.0    0.0      0.0     0.0      0.0     0.0   \n",
       "2637   0.000000      0.0   0.0    0.0      0.0     0.0      0.0     0.0   \n",
       "2638   0.000000      0.0   0.0    0.0      0.0     0.0      0.0     0.0   \n",
       "2639   0.000000      0.0   0.0    0.0      0.0     0.0      0.0     0.0   \n",
       "2640   0.000000      0.0   0.0    0.0      0.0     0.0      0.0     0.0   \n",
       "\n",
       "      absolute  absolutely  ...  york     young  younger     youth  youthful  \\\n",
       "0          0.0         0.0  ...   0.0  0.027720      0.0  0.000000       0.0   \n",
       "1          0.0         0.0  ...   0.0  0.000000      0.0  0.000000       0.0   \n",
       "2          0.0         0.0  ...   0.0  0.000000      0.0  0.000000       0.0   \n",
       "3          0.0         0.0  ...   0.0  0.000000      0.0  0.000000       0.0   \n",
       "4          0.0         0.0  ...   0.0  0.000000      0.0  0.000000       0.0   \n",
       "...        ...         ...  ...   ...       ...      ...       ...       ...   \n",
       "2636       0.0         0.0  ...   0.0  0.000000      0.0  0.000000       0.0   \n",
       "2637       0.0         0.0  ...   0.0  0.000000      0.0  0.000000       0.0   \n",
       "2638       0.0         0.0  ...   0.0  0.042739      0.0  0.060965       0.0   \n",
       "2639       0.0         0.0  ...   0.0  0.000000      0.0  0.000000       0.0   \n",
       "2640       0.0         0.0  ...   0.0  0.000000      0.0  0.000000       0.0   \n",
       "\n",
       "      yup      zero    zombie  zone  zoo  \n",
       "0     0.0  0.030414  0.032713   0.0  0.0  \n",
       "1     0.0  0.000000  0.000000   0.0  0.0  \n",
       "2     0.0  0.000000  0.000000   0.0  0.0  \n",
       "3     0.0  0.000000  0.000000   0.0  0.0  \n",
       "4     0.0  0.000000  0.000000   0.0  0.0  \n",
       "...   ...       ...       ...   ...  ...  \n",
       "2636  0.0  0.000000  0.000000   0.0  0.0  \n",
       "2637  0.0  0.000000  0.000000   0.0  0.0  \n",
       "2638  0.0  0.000000  0.000000   0.0  0.0  \n",
       "2639  0.0  0.000000  0.000000   0.0  0.0  \n",
       "2640  0.0  0.000000  0.000000   0.0  0.0  \n",
       "\n",
       "[2641 rows x 4857 columns]"
      ],
      "text/html": "<div>\n<style scoped>\n    .dataframe tbody tr th:only-of-type {\n        vertical-align: middle;\n    }\n\n    .dataframe tbody tr th {\n        vertical-align: top;\n    }\n\n    .dataframe thead th {\n        text-align: right;\n    }\n</style>\n<table border=\"1\" class=\"dataframe\">\n  <thead>\n    <tr style=\"text-align: right;\">\n      <th></th>\n      <th>abandoned</th>\n      <th>ability</th>\n      <th>able</th>\n      <th>abode</th>\n      <th>abraham</th>\n      <th>abroad</th>\n      <th>absence</th>\n      <th>absent</th>\n      <th>absolute</th>\n      <th>absolutely</th>\n      <th>...</th>\n      <th>york</th>\n      <th>young</th>\n      <th>younger</th>\n      <th>youth</th>\n      <th>youthful</th>\n      <th>yup</th>\n      <th>zero</th>\n      <th>zombie</th>\n      <th>zone</th>\n      <th>zoo</th>\n    </tr>\n  </thead>\n  <tbody>\n    <tr>\n      <th>0</th>\n      <td>0.016056</td>\n      <td>0.0</td>\n      <td>0.0</td>\n      <td>0.0</td>\n      <td>0.0</td>\n      <td>0.0</td>\n      <td>0.0</td>\n      <td>0.0</td>\n      <td>0.0</td>\n      <td>0.0</td>\n      <td>...</td>\n      <td>0.0</td>\n      <td>0.027720</td>\n      <td>0.0</td>\n      <td>0.000000</td>\n      <td>0.0</td>\n      <td>0.0</td>\n      <td>0.030414</td>\n      <td>0.032713</td>\n      <td>0.0</td>\n      <td>0.0</td>\n    </tr>\n    <tr>\n      <th>1</th>\n      <td>0.000000</td>\n      <td>0.0</td>\n      <td>0.0</td>\n      <td>0.0</td>\n      <td>0.0</td>\n      <td>0.0</td>\n      <td>0.0</td>\n      <td>0.0</td>\n      <td>0.0</td>\n      <td>0.0</td>\n      <td>...</td>\n      <td>0.0</td>\n      <td>0.000000</td>\n      <td>0.0</td>\n      <td>0.000000</td>\n      <td>0.0</td>\n      <td>0.0</td>\n      <td>0.000000</td>\n      <td>0.000000</td>\n      <td>0.0</td>\n      <td>0.0</td>\n    </tr>\n    <tr>\n      <th>2</th>\n      <td>0.000000</td>\n      <td>0.0</td>\n      <td>0.0</td>\n      <td>0.0</td>\n      <td>0.0</td>\n      <td>0.0</td>\n      <td>0.0</td>\n      <td>0.0</td>\n      <td>0.0</td>\n      <td>0.0</td>\n      <td>...</td>\n      <td>0.0</td>\n      <td>0.000000</td>\n      <td>0.0</td>\n      <td>0.000000</td>\n      <td>0.0</td>\n      <td>0.0</td>\n      <td>0.000000</td>\n      <td>0.000000</td>\n      <td>0.0</td>\n      <td>0.0</td>\n    </tr>\n    <tr>\n      <th>3</th>\n      <td>0.000000</td>\n      <td>0.0</td>\n      <td>0.0</td>\n      <td>0.0</td>\n      <td>0.0</td>\n      <td>0.0</td>\n      <td>0.0</td>\n      <td>0.0</td>\n      <td>0.0</td>\n      <td>0.0</td>\n      <td>...</td>\n      <td>0.0</td>\n      <td>0.000000</td>\n      <td>0.0</td>\n      <td>0.000000</td>\n      <td>0.0</td>\n      <td>0.0</td>\n      <td>0.000000</td>\n      <td>0.000000</td>\n      <td>0.0</td>\n      <td>0.0</td>\n    </tr>\n    <tr>\n      <th>4</th>\n      <td>0.000000</td>\n      <td>0.0</td>\n      <td>0.0</td>\n      <td>0.0</td>\n      <td>0.0</td>\n      <td>0.0</td>\n      <td>0.0</td>\n      <td>0.0</td>\n      <td>0.0</td>\n      <td>0.0</td>\n      <td>...</td>\n      <td>0.0</td>\n      <td>0.000000</td>\n      <td>0.0</td>\n      <td>0.000000</td>\n      <td>0.0</td>\n      <td>0.0</td>\n      <td>0.000000</td>\n      <td>0.000000</td>\n      <td>0.0</td>\n      <td>0.0</td>\n    </tr>\n    <tr>\n      <th>...</th>\n      <td>...</td>\n      <td>...</td>\n      <td>...</td>\n      <td>...</td>\n      <td>...</td>\n      <td>...</td>\n      <td>...</td>\n      <td>...</td>\n      <td>...</td>\n      <td>...</td>\n      <td>...</td>\n      <td>...</td>\n      <td>...</td>\n      <td>...</td>\n      <td>...</td>\n      <td>...</td>\n      <td>...</td>\n      <td>...</td>\n      <td>...</td>\n      <td>...</td>\n      <td>...</td>\n    </tr>\n    <tr>\n      <th>2636</th>\n      <td>0.000000</td>\n      <td>0.0</td>\n      <td>0.0</td>\n      <td>0.0</td>\n      <td>0.0</td>\n      <td>0.0</td>\n      <td>0.0</td>\n      <td>0.0</td>\n      <td>0.0</td>\n      <td>0.0</td>\n      <td>...</td>\n      <td>0.0</td>\n      <td>0.000000</td>\n      <td>0.0</td>\n      <td>0.000000</td>\n      <td>0.0</td>\n      <td>0.0</td>\n      <td>0.000000</td>\n      <td>0.000000</td>\n      <td>0.0</td>\n      <td>0.0</td>\n    </tr>\n    <tr>\n      <th>2637</th>\n      <td>0.000000</td>\n      <td>0.0</td>\n      <td>0.0</td>\n      <td>0.0</td>\n      <td>0.0</td>\n      <td>0.0</td>\n      <td>0.0</td>\n      <td>0.0</td>\n      <td>0.0</td>\n      <td>0.0</td>\n      <td>...</td>\n      <td>0.0</td>\n      <td>0.000000</td>\n      <td>0.0</td>\n      <td>0.000000</td>\n      <td>0.0</td>\n      <td>0.0</td>\n      <td>0.000000</td>\n      <td>0.000000</td>\n      <td>0.0</td>\n      <td>0.0</td>\n    </tr>\n    <tr>\n      <th>2638</th>\n      <td>0.000000</td>\n      <td>0.0</td>\n      <td>0.0</td>\n      <td>0.0</td>\n      <td>0.0</td>\n      <td>0.0</td>\n      <td>0.0</td>\n      <td>0.0</td>\n      <td>0.0</td>\n      <td>0.0</td>\n      <td>...</td>\n      <td>0.0</td>\n      <td>0.042739</td>\n      <td>0.0</td>\n      <td>0.060965</td>\n      <td>0.0</td>\n      <td>0.0</td>\n      <td>0.000000</td>\n      <td>0.000000</td>\n      <td>0.0</td>\n      <td>0.0</td>\n    </tr>\n    <tr>\n      <th>2639</th>\n      <td>0.000000</td>\n      <td>0.0</td>\n      <td>0.0</td>\n      <td>0.0</td>\n      <td>0.0</td>\n      <td>0.0</td>\n      <td>0.0</td>\n      <td>0.0</td>\n      <td>0.0</td>\n      <td>0.0</td>\n      <td>...</td>\n      <td>0.0</td>\n      <td>0.000000</td>\n      <td>0.0</td>\n      <td>0.000000</td>\n      <td>0.0</td>\n      <td>0.0</td>\n      <td>0.000000</td>\n      <td>0.000000</td>\n      <td>0.0</td>\n      <td>0.0</td>\n    </tr>\n    <tr>\n      <th>2640</th>\n      <td>0.000000</td>\n      <td>0.0</td>\n      <td>0.0</td>\n      <td>0.0</td>\n      <td>0.0</td>\n      <td>0.0</td>\n      <td>0.0</td>\n      <td>0.0</td>\n      <td>0.0</td>\n      <td>0.0</td>\n      <td>...</td>\n      <td>0.0</td>\n      <td>0.000000</td>\n      <td>0.0</td>\n      <td>0.000000</td>\n      <td>0.0</td>\n      <td>0.0</td>\n      <td>0.000000</td>\n      <td>0.000000</td>\n      <td>0.0</td>\n      <td>0.0</td>\n    </tr>\n  </tbody>\n</table>\n<p>2641 rows × 4857 columns</p>\n</div>"
     },
     "metadata": {},
     "execution_count": 51
    }
   ],
   "source": [
    "doc_term_matrix2"
   ]
  },
  {
   "source": [
    "### LSA below"
   ],
   "cell_type": "markdown",
   "metadata": {}
  },
  {
   "cell_type": "code",
   "execution_count": 12,
   "metadata": {},
   "outputs": [
    {
     "output_type": "execute_result",
     "data": {
      "text/plain": [
       "array([0.00435737, 0.00682388, 0.00612271, 0.00514681, 0.00487399])"
      ]
     },
     "metadata": {},
     "execution_count": 12
    }
   ],
   "source": [
    "lsa = TruncatedSVD(5)\n",
    "doc_topic = lsa.fit_transform(doc_term_matrix2)\n",
    "lsa.explained_variance_ratio_"
   ]
  },
  {
   "cell_type": "code",
   "execution_count": 13,
   "metadata": {},
   "outputs": [
    {
     "output_type": "execute_result",
     "data": {
      "text/plain": [
       "        abandoned  ability   able  abode  abraham  abroad  absence  absent  \\\n",
       "topic1      0.002    0.002  0.010  0.001    0.001   0.002    0.002   0.001   \n",
       "topic2     -0.002   -0.002 -0.008 -0.001   -0.001  -0.002   -0.001  -0.001   \n",
       "topic3      0.001   -0.001 -0.002  0.000   -0.000  -0.000   -0.000  -0.000   \n",
       "topic4     -0.002   -0.002 -0.008 -0.001   -0.000  -0.002    0.000  -0.001   \n",
       "topic5      0.000    0.002  0.006  0.001    0.001   0.001   -0.000   0.000   \n",
       "\n",
       "        absolute  absolutely  ...   york  young  younger  youth  youthful  \\\n",
       "topic1     0.001       0.003  ...  0.015  0.050    0.004  0.005     0.001   \n",
       "topic2    -0.001      -0.002  ... -0.001 -0.018   -0.003 -0.004    -0.001   \n",
       "topic3    -0.001      -0.000  ... -0.020 -0.015   -0.000 -0.001    -0.000   \n",
       "topic4    -0.001      -0.003  ... -0.002 -0.027   -0.003 -0.005    -0.000   \n",
       "topic5     0.001       0.002  ...  0.011  0.016    0.002  0.003     0.000   \n",
       "\n",
       "          yup   zero  zombie   zone    zoo  \n",
       "topic1  0.003  0.003   0.002  0.011  0.002  \n",
       "topic2  0.000 -0.001   0.003  0.012 -0.001  \n",
       "topic3 -0.004 -0.003  -0.004 -0.020 -0.002  \n",
       "topic4  0.000  0.002  -0.004 -0.010 -0.001  \n",
       "topic5  0.001  0.002  -0.000  0.001  0.002  \n",
       "\n",
       "[5 rows x 4857 columns]"
      ],
      "text/html": "<div>\n<style scoped>\n    .dataframe tbody tr th:only-of-type {\n        vertical-align: middle;\n    }\n\n    .dataframe tbody tr th {\n        vertical-align: top;\n    }\n\n    .dataframe thead th {\n        text-align: right;\n    }\n</style>\n<table border=\"1\" class=\"dataframe\">\n  <thead>\n    <tr style=\"text-align: right;\">\n      <th></th>\n      <th>abandoned</th>\n      <th>ability</th>\n      <th>able</th>\n      <th>abode</th>\n      <th>abraham</th>\n      <th>abroad</th>\n      <th>absence</th>\n      <th>absent</th>\n      <th>absolute</th>\n      <th>absolutely</th>\n      <th>...</th>\n      <th>york</th>\n      <th>young</th>\n      <th>younger</th>\n      <th>youth</th>\n      <th>youthful</th>\n      <th>yup</th>\n      <th>zero</th>\n      <th>zombie</th>\n      <th>zone</th>\n      <th>zoo</th>\n    </tr>\n  </thead>\n  <tbody>\n    <tr>\n      <th>topic1</th>\n      <td>0.002</td>\n      <td>0.002</td>\n      <td>0.010</td>\n      <td>0.001</td>\n      <td>0.001</td>\n      <td>0.002</td>\n      <td>0.002</td>\n      <td>0.001</td>\n      <td>0.001</td>\n      <td>0.003</td>\n      <td>...</td>\n      <td>0.015</td>\n      <td>0.050</td>\n      <td>0.004</td>\n      <td>0.005</td>\n      <td>0.001</td>\n      <td>0.003</td>\n      <td>0.003</td>\n      <td>0.002</td>\n      <td>0.011</td>\n      <td>0.002</td>\n    </tr>\n    <tr>\n      <th>topic2</th>\n      <td>-0.002</td>\n      <td>-0.002</td>\n      <td>-0.008</td>\n      <td>-0.001</td>\n      <td>-0.001</td>\n      <td>-0.002</td>\n      <td>-0.001</td>\n      <td>-0.001</td>\n      <td>-0.001</td>\n      <td>-0.002</td>\n      <td>...</td>\n      <td>-0.001</td>\n      <td>-0.018</td>\n      <td>-0.003</td>\n      <td>-0.004</td>\n      <td>-0.001</td>\n      <td>0.000</td>\n      <td>-0.001</td>\n      <td>0.003</td>\n      <td>0.012</td>\n      <td>-0.001</td>\n    </tr>\n    <tr>\n      <th>topic3</th>\n      <td>0.001</td>\n      <td>-0.001</td>\n      <td>-0.002</td>\n      <td>0.000</td>\n      <td>-0.000</td>\n      <td>-0.000</td>\n      <td>-0.000</td>\n      <td>-0.000</td>\n      <td>-0.001</td>\n      <td>-0.000</td>\n      <td>...</td>\n      <td>-0.020</td>\n      <td>-0.015</td>\n      <td>-0.000</td>\n      <td>-0.001</td>\n      <td>-0.000</td>\n      <td>-0.004</td>\n      <td>-0.003</td>\n      <td>-0.004</td>\n      <td>-0.020</td>\n      <td>-0.002</td>\n    </tr>\n    <tr>\n      <th>topic4</th>\n      <td>-0.002</td>\n      <td>-0.002</td>\n      <td>-0.008</td>\n      <td>-0.001</td>\n      <td>-0.000</td>\n      <td>-0.002</td>\n      <td>0.000</td>\n      <td>-0.001</td>\n      <td>-0.001</td>\n      <td>-0.003</td>\n      <td>...</td>\n      <td>-0.002</td>\n      <td>-0.027</td>\n      <td>-0.003</td>\n      <td>-0.005</td>\n      <td>-0.000</td>\n      <td>0.000</td>\n      <td>0.002</td>\n      <td>-0.004</td>\n      <td>-0.010</td>\n      <td>-0.001</td>\n    </tr>\n    <tr>\n      <th>topic5</th>\n      <td>0.000</td>\n      <td>0.002</td>\n      <td>0.006</td>\n      <td>0.001</td>\n      <td>0.001</td>\n      <td>0.001</td>\n      <td>-0.000</td>\n      <td>0.000</td>\n      <td>0.001</td>\n      <td>0.002</td>\n      <td>...</td>\n      <td>0.011</td>\n      <td>0.016</td>\n      <td>0.002</td>\n      <td>0.003</td>\n      <td>0.000</td>\n      <td>0.001</td>\n      <td>0.002</td>\n      <td>-0.000</td>\n      <td>0.001</td>\n      <td>0.002</td>\n    </tr>\n  </tbody>\n</table>\n<p>5 rows × 4857 columns</p>\n</div>"
     },
     "metadata": {},
     "execution_count": 13
    }
   ],
   "source": [
    "topic_word = pd.DataFrame(\n",
    "    lsa.components_.round(3), \n",
    "    index = ['topic1','topic2','topic3','topic4','topic5'],\n",
    "    columns = tfidf.get_feature_names()\n",
    "    )\n",
    "topic_word"
   ]
  },
  {
   "cell_type": "code",
   "execution_count": 14,
   "metadata": {},
   "outputs": [],
   "source": [
    "def display_topics(model, feature_names, no_top_words, topic_names=None):\n",
    "    for ix, topic in enumerate(model.components_):\n",
    "        if not topic_names or not topic_names[ix]:\n",
    "            print(\"\\nTopic \", ix)\n",
    "        else:\n",
    "            print(\"\\nTopic: '\",topic_names[ix],\"'\")\n",
    "        print(\", \".join([feature_names[i]\n",
    "                        for i in topic.argsort()[:-no_top_words - 1:-1]]))"
   ]
  },
  {
   "cell_type": "code",
   "execution_count": 15,
   "metadata": {},
   "outputs": [
    {
     "output_type": "stream",
     "name": "stdout",
     "text": [
      "\nTopic  0\ntoll, listened, bowl, ham, gossip, lied, stock, tryna, logic, reader\n\nTopic  1\ntoll, damsel, paris, eventually, bob, stock, aloud, flock, dancer, cloud\n\nTopic  2\ntoll, starting, golden, dread, faithful, foreign, hollow, los, skeleton, bein\n\nTopic  3\nbowl, gossip, toll, kind, torn, feeding, crawl, background, bet, reader\n\nTopic  4\npushing, pool, panel, toll, stock, newly, starting, coloured, looked, shield\n"
     ]
    }
   ],
   "source": [
    "display_topics(lsa, cv.get_feature_names(), 10)"
   ]
  },
  {
   "cell_type": "code",
   "execution_count": null,
   "metadata": {},
   "outputs": [],
   "source": []
  },
  {
   "cell_type": "code",
   "execution_count": null,
   "metadata": {},
   "outputs": [],
   "source": []
  },
  {
   "source": [
    "### NMF below"
   ],
   "cell_type": "markdown",
   "metadata": {}
  },
  {
   "cell_type": "code",
   "execution_count": 58,
   "metadata": {},
   "outputs": [],
   "source": [
    "nmf_model = NMF(7)\n",
    "doc_topic2 = nmf_model.fit_transform(doc_term_matrix2)"
   ]
  },
  {
   "cell_type": "code",
   "execution_count": 59,
   "metadata": {},
   "outputs": [
    {
     "output_type": "execute_result",
     "data": {
      "text/plain": [
       "   abandoned  ability   able  abode  abraham  abroad  absence  absent  \\\n",
       "0      0.006    0.000  0.001  0.000    0.001   0.000    0.001   0.000   \n",
       "1      0.000    0.000  0.000  0.000    0.000   0.000    0.000   0.000   \n",
       "2      0.000    0.000  0.000  0.000    0.000   0.000    0.000   0.000   \n",
       "3      0.000    0.000  0.000  0.000    0.000   0.000    0.002   0.000   \n",
       "4      0.000    0.000  0.001  0.000    0.000   0.000    0.002   0.000   \n",
       "5      0.005    0.013  0.063  0.007    0.006   0.012    0.008   0.005   \n",
       "6      0.000    0.000  0.000  0.000    0.000   0.000    0.000   0.000   \n",
       "\n",
       "   absolute  absolutely  ...   york  young  younger  youth  youthful    yup  \\\n",
       "0     0.000        0.00  ...  0.000  0.015    0.004  0.000     0.000  0.003   \n",
       "1     0.000        0.00  ...  0.000  0.017    0.000  0.000     0.000  0.000   \n",
       "2     0.000        0.00  ...  0.010  0.000    0.000  0.000     0.000  0.005   \n",
       "3     0.000        0.00  ...  0.017  0.002    0.000  0.000     0.000  0.003   \n",
       "4     0.000        0.00  ...  0.000  0.004    0.000  0.001     0.000  0.001   \n",
       "5     0.011        0.02  ...  0.085  0.286    0.017  0.036     0.004  0.009   \n",
       "6     0.000        0.00  ...  0.006  0.000    0.000  0.000     0.000  0.000   \n",
       "\n",
       "    zero  zombie   zone    zoo  \n",
       "0  0.000   0.000  0.000  0.000  \n",
       "1  0.001   0.001  0.003  0.000  \n",
       "2  0.000   0.012  0.046  0.000  \n",
       "3  0.005   0.000  0.000  0.000  \n",
       "4  0.000   0.000  0.000  0.000  \n",
       "5  0.018   0.011  0.046  0.014  \n",
       "6  0.000   0.000  0.000  0.000  \n",
       "\n",
       "[7 rows x 4857 columns]"
      ],
      "text/html": "<div>\n<style scoped>\n    .dataframe tbody tr th:only-of-type {\n        vertical-align: middle;\n    }\n\n    .dataframe tbody tr th {\n        vertical-align: top;\n    }\n\n    .dataframe thead th {\n        text-align: right;\n    }\n</style>\n<table border=\"1\" class=\"dataframe\">\n  <thead>\n    <tr style=\"text-align: right;\">\n      <th></th>\n      <th>abandoned</th>\n      <th>ability</th>\n      <th>able</th>\n      <th>abode</th>\n      <th>abraham</th>\n      <th>abroad</th>\n      <th>absence</th>\n      <th>absent</th>\n      <th>absolute</th>\n      <th>absolutely</th>\n      <th>...</th>\n      <th>york</th>\n      <th>young</th>\n      <th>younger</th>\n      <th>youth</th>\n      <th>youthful</th>\n      <th>yup</th>\n      <th>zero</th>\n      <th>zombie</th>\n      <th>zone</th>\n      <th>zoo</th>\n    </tr>\n  </thead>\n  <tbody>\n    <tr>\n      <th>0</th>\n      <td>0.006</td>\n      <td>0.000</td>\n      <td>0.001</td>\n      <td>0.000</td>\n      <td>0.001</td>\n      <td>0.000</td>\n      <td>0.001</td>\n      <td>0.000</td>\n      <td>0.000</td>\n      <td>0.00</td>\n      <td>...</td>\n      <td>0.000</td>\n      <td>0.015</td>\n      <td>0.004</td>\n      <td>0.000</td>\n      <td>0.000</td>\n      <td>0.003</td>\n      <td>0.000</td>\n      <td>0.000</td>\n      <td>0.000</td>\n      <td>0.000</td>\n    </tr>\n    <tr>\n      <th>1</th>\n      <td>0.000</td>\n      <td>0.000</td>\n      <td>0.000</td>\n      <td>0.000</td>\n      <td>0.000</td>\n      <td>0.000</td>\n      <td>0.000</td>\n      <td>0.000</td>\n      <td>0.000</td>\n      <td>0.00</td>\n      <td>...</td>\n      <td>0.000</td>\n      <td>0.017</td>\n      <td>0.000</td>\n      <td>0.000</td>\n      <td>0.000</td>\n      <td>0.000</td>\n      <td>0.001</td>\n      <td>0.001</td>\n      <td>0.003</td>\n      <td>0.000</td>\n    </tr>\n    <tr>\n      <th>2</th>\n      <td>0.000</td>\n      <td>0.000</td>\n      <td>0.000</td>\n      <td>0.000</td>\n      <td>0.000</td>\n      <td>0.000</td>\n      <td>0.000</td>\n      <td>0.000</td>\n      <td>0.000</td>\n      <td>0.00</td>\n      <td>...</td>\n      <td>0.010</td>\n      <td>0.000</td>\n      <td>0.000</td>\n      <td>0.000</td>\n      <td>0.000</td>\n      <td>0.005</td>\n      <td>0.000</td>\n      <td>0.012</td>\n      <td>0.046</td>\n      <td>0.000</td>\n    </tr>\n    <tr>\n      <th>3</th>\n      <td>0.000</td>\n      <td>0.000</td>\n      <td>0.000</td>\n      <td>0.000</td>\n      <td>0.000</td>\n      <td>0.000</td>\n      <td>0.002</td>\n      <td>0.000</td>\n      <td>0.000</td>\n      <td>0.00</td>\n      <td>...</td>\n      <td>0.017</td>\n      <td>0.002</td>\n      <td>0.000</td>\n      <td>0.000</td>\n      <td>0.000</td>\n      <td>0.003</td>\n      <td>0.005</td>\n      <td>0.000</td>\n      <td>0.000</td>\n      <td>0.000</td>\n    </tr>\n    <tr>\n      <th>4</th>\n      <td>0.000</td>\n      <td>0.000</td>\n      <td>0.001</td>\n      <td>0.000</td>\n      <td>0.000</td>\n      <td>0.000</td>\n      <td>0.002</td>\n      <td>0.000</td>\n      <td>0.000</td>\n      <td>0.00</td>\n      <td>...</td>\n      <td>0.000</td>\n      <td>0.004</td>\n      <td>0.000</td>\n      <td>0.001</td>\n      <td>0.000</td>\n      <td>0.001</td>\n      <td>0.000</td>\n      <td>0.000</td>\n      <td>0.000</td>\n      <td>0.000</td>\n    </tr>\n    <tr>\n      <th>5</th>\n      <td>0.005</td>\n      <td>0.013</td>\n      <td>0.063</td>\n      <td>0.007</td>\n      <td>0.006</td>\n      <td>0.012</td>\n      <td>0.008</td>\n      <td>0.005</td>\n      <td>0.011</td>\n      <td>0.02</td>\n      <td>...</td>\n      <td>0.085</td>\n      <td>0.286</td>\n      <td>0.017</td>\n      <td>0.036</td>\n      <td>0.004</td>\n      <td>0.009</td>\n      <td>0.018</td>\n      <td>0.011</td>\n      <td>0.046</td>\n      <td>0.014</td>\n    </tr>\n    <tr>\n      <th>6</th>\n      <td>0.000</td>\n      <td>0.000</td>\n      <td>0.000</td>\n      <td>0.000</td>\n      <td>0.000</td>\n      <td>0.000</td>\n      <td>0.000</td>\n      <td>0.000</td>\n      <td>0.000</td>\n      <td>0.00</td>\n      <td>...</td>\n      <td>0.006</td>\n      <td>0.000</td>\n      <td>0.000</td>\n      <td>0.000</td>\n      <td>0.000</td>\n      <td>0.000</td>\n      <td>0.000</td>\n      <td>0.000</td>\n      <td>0.000</td>\n      <td>0.000</td>\n    </tr>\n  </tbody>\n</table>\n<p>7 rows × 4857 columns</p>\n</div>"
     },
     "metadata": {},
     "execution_count": 59
    }
   ],
   "source": [
    "topic_word = pd.DataFrame(\n",
    "    nmf_model.components_.round(3), \n",
    "    columns = tfidf.get_feature_names()\n",
    "    )\n",
    "topic_word"
   ]
  },
  {
   "cell_type": "code",
   "execution_count": 60,
   "metadata": {},
   "outputs": [
    {
     "output_type": "stream",
     "name": "stdout",
     "text": [
      "\nTopic  0\ngone, dream, light, stay, home, long, feeling, turn, believe, leave\n\nTopic  1\ntonight, stay, tomorrow, hand, party, going, feelin, dancing, high, kiss\n\nTopic  2\ndance, everybody, body, party, stop, music, floor, rock, beat, rhythm\n\nTopic  3\nboy, gotta, bad, kiss, bring, crazy, better, walk, touch, sweet\n\nTopic  4\nlittle, bit, crazy, bad, late, maybe, conversation, work, fun, broken\n\nTopic  5\nshit, nigga, people, fuck, woman, money, black, head, bitch, bad\n\nTopic  6\nque, para, por, com, los, vida, est, stay, dale, sur\n"
     ]
    }
   ],
   "source": [
    "display_topics(nmf_model, tfidf.get_feature_names(), 10)"
   ]
  },
  {
   "cell_type": "code",
   "execution_count": null,
   "metadata": {},
   "outputs": [],
   "source": []
  },
  {
   "cell_type": "code",
   "execution_count": null,
   "metadata": {},
   "outputs": [],
   "source": []
  },
  {
   "source": [
    "### LDA Below"
   ],
   "cell_type": "markdown",
   "metadata": {}
  },
  {
   "cell_type": "code",
   "execution_count": 19,
   "metadata": {},
   "outputs": [],
   "source": [
    "# # for TF DTM\n",
    "# lda_tf = LatentDirichletAllocation(n_components=20, random_state=0)\n",
    "# lda_tf.fit(doc_term_matrix)\n",
    "\n",
    "# # for TFIDF DTM\n",
    "# lda_tfidf = LatentDirichletAllocation(n_components=20, random_state=0)\n",
    "# lda_tfidf.fit(doc_term_matrix2)"
   ]
  },
  {
   "cell_type": "code",
   "execution_count": null,
   "metadata": {},
   "outputs": [],
   "source": []
  }
 ]
}