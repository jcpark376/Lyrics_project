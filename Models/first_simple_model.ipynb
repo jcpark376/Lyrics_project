{
 "metadata": {
  "language_info": {
   "codemirror_mode": {
    "name": "ipython",
    "version": 3
   },
   "file_extension": ".py",
   "mimetype": "text/x-python",
   "name": "python",
   "nbconvert_exporter": "python",
   "pygments_lexer": "ipython3",
   "version": "3.8.3-final"
  },
  "orig_nbformat": 2,
  "kernelspec": {
   "name": "python3",
   "display_name": "Python 3"
  }
 },
 "nbformat": 4,
 "nbformat_minor": 2,
 "cells": [
  {
   "source": [
    "## Purpose of first model\n",
    "The purpose of the FINAL model is to do topic modeling of both hits in the US and the UK and comparing them.\n",
    "However, this first, simple, prelimiary model will do just the US, dropping the NaN rows (currently trying to find ways to fill them in the webscraper module).\n",
    "\n"
   ],
   "cell_type": "markdown",
   "metadata": {}
  },
  {
   "cell_type": "code",
   "execution_count": 56,
   "metadata": {},
   "outputs": [],
   "source": [
    "import pickle\n",
    "import pandas as pd\n",
    "\n",
    "import re\n",
    "import string\n",
    "from nltk.corpus import stopwords\n",
    "from nltk.stem import WordNetLemmatizer\n",
    "\n",
    "from sklearn.feature_extraction.text import CountVectorizer\n",
    "from sklearn.feature_extraction.text import TfidfVectorizer\n",
    "\n",
    "from sklearn.decomposition import TruncatedSVD\n",
    "from sklearn.decomposition import NMF\n",
    "from sklearn.decomposition import LatentDirichletAllocation"
   ]
  },
  {
   "cell_type": "code",
   "execution_count": 57,
   "metadata": {},
   "outputs": [],
   "source": [
    "file = open('../Webscraper/us_pops_raw', 'rb')\n",
    "us_pops = pickle.load(file)\n",
    "us_pops.dropna(inplace=True)\n",
    "us_pops = us_pops['Lyrics']"
   ]
  },
  {
   "cell_type": "code",
   "execution_count": 58,
   "metadata": {},
   "outputs": [
    {
     "output_type": "execute_result",
     "data": {
      "text/plain": [
       "0       I know this pain (I know this pain)\\nWhy do yo...\n",
       "1       Lay a whisper on my pillow\\nLeave the winter o...\n",
       "2       It's been seven hours and fifteen days\\nSince ...\n",
       "3       Yeah, Spyderman and Freeze in full effect\\nUh-...\n",
       "4       Strike a pose\\nStrike a pose\\nVogue (vogue, vo...\n",
       "                              ...                        \n",
       "2750    We've been to both Carolinas\\nSeen a big Monta...\n",
       "2751    I'm jealous of the blue jeans that you're wear...\n",
       "2752    I'm a motherfuckin' train wreck\\nI don't wanna...\n",
       "2753    There's somethin' in the way you roll your eye...\n",
       "2754    Man, what? (Haha)\\nThis shit funny, one sec\\nO...\n",
       "Name: Lyrics, Length: 2671, dtype: object"
      ]
     },
     "metadata": {},
     "execution_count": 58
    }
   ],
   "source": [
    "us_pops"
   ]
  },
  {
   "cell_type": "code",
   "execution_count": 59,
   "metadata": {},
   "outputs": [],
   "source": [
    "# only keep alphanumeric, remove newlines, and make everything lowercase\n",
    "alphanumeric = lambda x: re.sub('\\w*\\d\\w*', ' ', x)\n",
    "rm_newline = lambda x: re.sub(\"\\n\", ' ',x)\n",
    "punc_lower = lambda x: re.sub('[%s]' % re.escape(string.punctuation), ' ', x.lower())\n",
    "\n",
    "us_pops_nopunc = us_pops.map(alphanumeric).map(rm_newline).map(punc_lower)"
   ]
  },
  {
   "cell_type": "code",
   "execution_count": 60,
   "metadata": {},
   "outputs": [],
   "source": [
    "# lemmatize. do this by turning every line into a list of words, and concat back to full lyrics\n",
    "us_pops_list = us_pops_nopunc.apply(lambda x: x.split(' '))\n",
    "\n",
    "def lemmatize(list_of_words):\n",
    "    lmt = WordNetLemmatizer()\n",
    "    strg = ''\n",
    "    for word in list_of_words:\n",
    "        lem_word = lmt.lemmatize(word)\n",
    "        if len(lem_word) > 2:\n",
    "            strg += lem_word + ' '\n",
    "    return strg\n",
    "        \n",
    "\n",
    "us_pops_clean = us_pops_list.apply(lemmatize)"
   ]
  },
  {
   "cell_type": "code",
   "execution_count": null,
   "metadata": {},
   "outputs": [],
   "source": []
  },
  {
   "cell_type": "code",
   "execution_count": null,
   "metadata": {},
   "outputs": [],
   "source": []
  },
  {
   "cell_type": "code",
   "execution_count": null,
   "metadata": {},
   "outputs": [],
   "source": []
  },
  {
   "cell_type": "code",
   "execution_count": 61,
   "metadata": {},
   "outputs": [],
   "source": [
    "cv = CountVectorizer(\n",
    "    stop_words = 'english',\n",
    "    # max_df = 0.1,\n",
    "    # min_df = 0.008\n",
    ")\n",
    "X = cv.fit_transform(us_pops_clean)\n",
    "doc_term_matrix = pd.DataFrame(X.toarray(), columns=cv.get_feature_names())"
   ]
  },
  {
   "cell_type": "code",
   "execution_count": 62,
   "metadata": {},
   "outputs": [
    {
     "output_type": "execute_result",
     "data": {
      "text/plain": [
       "      aaa  aaaa  aaaaaa  aaaaaaaaaaaaaaaaaaaa  aaaaaah  aaaah  aaaant  aagh  \\\n",
       "0       0     0       0                     0        0      0       0     0   \n",
       "1       0     0       0                     0        0      0       0     0   \n",
       "2       0     0       0                     0        0      0       0     0   \n",
       "3       1     0       0                     0        0      0       0     0   \n",
       "4       0     0       0                     0        0      0       0     0   \n",
       "...   ...   ...     ...                   ...      ...    ...     ...   ...   \n",
       "2666    0     0       0                     0        0      0       0     0   \n",
       "2667    0     0       0                     0        0      0       0     0   \n",
       "2668    0     0       0                     0        0      0       0     0   \n",
       "2669    0     0       0                     0        0      0       0     0   \n",
       "2670    0     0       0                     0        0      0       0     0   \n",
       "\n",
       "      aah  aaherra  ...  에에에  여유를  울퉁불퉁한  웬만한  이때다  인간적인  점잖아  정숙해  지금부터  한잔의  \n",
       "0       0        0  ...    0    0      0    0    0     0    0    0     0    0  \n",
       "1       0        0  ...    0    0      0    0    0     0    0    0     0    0  \n",
       "2       0        0  ...    0    0      0    0    0     0    0    0     0    0  \n",
       "3       0        0  ...    0    0      0    0    0     0    0    0     0    0  \n",
       "4       0        0  ...    0    0      0    0    0     0    0    0     0    0  \n",
       "...   ...      ...  ...  ...  ...    ...  ...  ...   ...  ...  ...   ...  ...  \n",
       "2666    0        0  ...    0    0      0    0    0     0    0    0     0    0  \n",
       "2667    0        0  ...    0    0      0    0    0     0    0    0     0    0  \n",
       "2668    0        0  ...    0    0      0    0    0     0    0    0     0    0  \n",
       "2669    0        0  ...    0    0      0    0    0     0    0    0     0    0  \n",
       "2670    0        0  ...    0    0      0    0    0     0    0    0     0    0  \n",
       "\n",
       "[2671 rows x 37904 columns]"
      ],
      "text/html": "<div>\n<style scoped>\n    .dataframe tbody tr th:only-of-type {\n        vertical-align: middle;\n    }\n\n    .dataframe tbody tr th {\n        vertical-align: top;\n    }\n\n    .dataframe thead th {\n        text-align: right;\n    }\n</style>\n<table border=\"1\" class=\"dataframe\">\n  <thead>\n    <tr style=\"text-align: right;\">\n      <th></th>\n      <th>aaa</th>\n      <th>aaaa</th>\n      <th>aaaaaa</th>\n      <th>aaaaaaaaaaaaaaaaaaaa</th>\n      <th>aaaaaah</th>\n      <th>aaaah</th>\n      <th>aaaant</th>\n      <th>aagh</th>\n      <th>aah</th>\n      <th>aaherra</th>\n      <th>...</th>\n      <th>에에에</th>\n      <th>여유를</th>\n      <th>울퉁불퉁한</th>\n      <th>웬만한</th>\n      <th>이때다</th>\n      <th>인간적인</th>\n      <th>점잖아</th>\n      <th>정숙해</th>\n      <th>지금부터</th>\n      <th>한잔의</th>\n    </tr>\n  </thead>\n  <tbody>\n    <tr>\n      <th>0</th>\n      <td>0</td>\n      <td>0</td>\n      <td>0</td>\n      <td>0</td>\n      <td>0</td>\n      <td>0</td>\n      <td>0</td>\n      <td>0</td>\n      <td>0</td>\n      <td>0</td>\n      <td>...</td>\n      <td>0</td>\n      <td>0</td>\n      <td>0</td>\n      <td>0</td>\n      <td>0</td>\n      <td>0</td>\n      <td>0</td>\n      <td>0</td>\n      <td>0</td>\n      <td>0</td>\n    </tr>\n    <tr>\n      <th>1</th>\n      <td>0</td>\n      <td>0</td>\n      <td>0</td>\n      <td>0</td>\n      <td>0</td>\n      <td>0</td>\n      <td>0</td>\n      <td>0</td>\n      <td>0</td>\n      <td>0</td>\n      <td>...</td>\n      <td>0</td>\n      <td>0</td>\n      <td>0</td>\n      <td>0</td>\n      <td>0</td>\n      <td>0</td>\n      <td>0</td>\n      <td>0</td>\n      <td>0</td>\n      <td>0</td>\n    </tr>\n    <tr>\n      <th>2</th>\n      <td>0</td>\n      <td>0</td>\n      <td>0</td>\n      <td>0</td>\n      <td>0</td>\n      <td>0</td>\n      <td>0</td>\n      <td>0</td>\n      <td>0</td>\n      <td>0</td>\n      <td>...</td>\n      <td>0</td>\n      <td>0</td>\n      <td>0</td>\n      <td>0</td>\n      <td>0</td>\n      <td>0</td>\n      <td>0</td>\n      <td>0</td>\n      <td>0</td>\n      <td>0</td>\n    </tr>\n    <tr>\n      <th>3</th>\n      <td>1</td>\n      <td>0</td>\n      <td>0</td>\n      <td>0</td>\n      <td>0</td>\n      <td>0</td>\n      <td>0</td>\n      <td>0</td>\n      <td>0</td>\n      <td>0</td>\n      <td>...</td>\n      <td>0</td>\n      <td>0</td>\n      <td>0</td>\n      <td>0</td>\n      <td>0</td>\n      <td>0</td>\n      <td>0</td>\n      <td>0</td>\n      <td>0</td>\n      <td>0</td>\n    </tr>\n    <tr>\n      <th>4</th>\n      <td>0</td>\n      <td>0</td>\n      <td>0</td>\n      <td>0</td>\n      <td>0</td>\n      <td>0</td>\n      <td>0</td>\n      <td>0</td>\n      <td>0</td>\n      <td>0</td>\n      <td>...</td>\n      <td>0</td>\n      <td>0</td>\n      <td>0</td>\n      <td>0</td>\n      <td>0</td>\n      <td>0</td>\n      <td>0</td>\n      <td>0</td>\n      <td>0</td>\n      <td>0</td>\n    </tr>\n    <tr>\n      <th>...</th>\n      <td>...</td>\n      <td>...</td>\n      <td>...</td>\n      <td>...</td>\n      <td>...</td>\n      <td>...</td>\n      <td>...</td>\n      <td>...</td>\n      <td>...</td>\n      <td>...</td>\n      <td>...</td>\n      <td>...</td>\n      <td>...</td>\n      <td>...</td>\n      <td>...</td>\n      <td>...</td>\n      <td>...</td>\n      <td>...</td>\n      <td>...</td>\n      <td>...</td>\n      <td>...</td>\n    </tr>\n    <tr>\n      <th>2666</th>\n      <td>0</td>\n      <td>0</td>\n      <td>0</td>\n      <td>0</td>\n      <td>0</td>\n      <td>0</td>\n      <td>0</td>\n      <td>0</td>\n      <td>0</td>\n      <td>0</td>\n      <td>...</td>\n      <td>0</td>\n      <td>0</td>\n      <td>0</td>\n      <td>0</td>\n      <td>0</td>\n      <td>0</td>\n      <td>0</td>\n      <td>0</td>\n      <td>0</td>\n      <td>0</td>\n    </tr>\n    <tr>\n      <th>2667</th>\n      <td>0</td>\n      <td>0</td>\n      <td>0</td>\n      <td>0</td>\n      <td>0</td>\n      <td>0</td>\n      <td>0</td>\n      <td>0</td>\n      <td>0</td>\n      <td>0</td>\n      <td>...</td>\n      <td>0</td>\n      <td>0</td>\n      <td>0</td>\n      <td>0</td>\n      <td>0</td>\n      <td>0</td>\n      <td>0</td>\n      <td>0</td>\n      <td>0</td>\n      <td>0</td>\n    </tr>\n    <tr>\n      <th>2668</th>\n      <td>0</td>\n      <td>0</td>\n      <td>0</td>\n      <td>0</td>\n      <td>0</td>\n      <td>0</td>\n      <td>0</td>\n      <td>0</td>\n      <td>0</td>\n      <td>0</td>\n      <td>...</td>\n      <td>0</td>\n      <td>0</td>\n      <td>0</td>\n      <td>0</td>\n      <td>0</td>\n      <td>0</td>\n      <td>0</td>\n      <td>0</td>\n      <td>0</td>\n      <td>0</td>\n    </tr>\n    <tr>\n      <th>2669</th>\n      <td>0</td>\n      <td>0</td>\n      <td>0</td>\n      <td>0</td>\n      <td>0</td>\n      <td>0</td>\n      <td>0</td>\n      <td>0</td>\n      <td>0</td>\n      <td>0</td>\n      <td>...</td>\n      <td>0</td>\n      <td>0</td>\n      <td>0</td>\n      <td>0</td>\n      <td>0</td>\n      <td>0</td>\n      <td>0</td>\n      <td>0</td>\n      <td>0</td>\n      <td>0</td>\n    </tr>\n    <tr>\n      <th>2670</th>\n      <td>0</td>\n      <td>0</td>\n      <td>0</td>\n      <td>0</td>\n      <td>0</td>\n      <td>0</td>\n      <td>0</td>\n      <td>0</td>\n      <td>0</td>\n      <td>0</td>\n      <td>...</td>\n      <td>0</td>\n      <td>0</td>\n      <td>0</td>\n      <td>0</td>\n      <td>0</td>\n      <td>0</td>\n      <td>0</td>\n      <td>0</td>\n      <td>0</td>\n      <td>0</td>\n    </tr>\n  </tbody>\n</table>\n<p>2671 rows × 37904 columns</p>\n</div>"
     },
     "metadata": {},
     "execution_count": 62
    }
   ],
   "source": [
    "doc_term_matrix"
   ]
  },
  {
   "cell_type": "code",
   "execution_count": null,
   "metadata": {},
   "outputs": [],
   "source": []
  },
  {
   "cell_type": "code",
   "execution_count": null,
   "metadata": {},
   "outputs": [],
   "source": []
  },
  {
   "cell_type": "code",
   "execution_count": 63,
   "metadata": {},
   "outputs": [],
   "source": [
    "from sklearn.feature_extraction import text"
   ]
  },
  {
   "cell_type": "code",
   "execution_count": 64,
   "metadata": {},
   "outputs": [],
   "source": [
    "stop_words_added = text.ENGLISH_STOP_WORDS.union(['huh','woo','whoa','hey','hold'])\n",
    "# stop_words_custom = frozenset({'huh','woo','whoa','hey','hold'})"
   ]
  },
  {
   "cell_type": "code",
   "execution_count": 75,
   "metadata": {},
   "outputs": [],
   "source": [
    "tfidf =  TfidfVectorizer(\n",
    "    stop_words = stop_words_added,\n",
    "    max_df = 0.2,\n",
    "    min_df = 0.0005\n",
    ")\n",
    "Y = tfidf.fit_transform(us_pops_clean)\n",
    "doc_term_matrix2 = pd.DataFrame(Y.toarray(), columns=tfidf.get_feature_names())\n"
   ]
  },
  {
   "cell_type": "code",
   "execution_count": 76,
   "metadata": {},
   "outputs": [
    {
     "output_type": "execute_result",
     "data": {
      "text/plain": [
       "           aaa  aah  aaliyah  aback  abandoned  abashed  abc  abdul  abeat  \\\n",
       "0     0.000000  0.0      0.0    0.0        0.0      0.0  0.0    0.0    0.0   \n",
       "1     0.000000  0.0      0.0    0.0        0.0      0.0  0.0    0.0    0.0   \n",
       "2     0.000000  0.0      0.0    0.0        0.0      0.0  0.0    0.0    0.0   \n",
       "3     0.046599  0.0      0.0    0.0        0.0      0.0  0.0    0.0    0.0   \n",
       "4     0.000000  0.0      0.0    0.0        0.0      0.0  0.0    0.0    0.0   \n",
       "...        ...  ...      ...    ...        ...      ...  ...    ...    ...   \n",
       "2666  0.000000  0.0      0.0    0.0        0.0      0.0  0.0    0.0    0.0   \n",
       "2667  0.000000  0.0      0.0    0.0        0.0      0.0  0.0    0.0    0.0   \n",
       "2668  0.000000  0.0      0.0    0.0        0.0      0.0  0.0    0.0    0.0   \n",
       "2669  0.000000  0.0      0.0    0.0        0.0      0.0  0.0    0.0    0.0   \n",
       "2670  0.000000  0.0      0.0    0.0        0.0      0.0  0.0    0.0    0.0   \n",
       "\n",
       "      abel  ...  zulu  zurück  çünkü  étais  était  être  über  üstünde  şey  \\\n",
       "0      0.0  ...   0.0     0.0    0.0    0.0    0.0   0.0   0.0      0.0  0.0   \n",
       "1      0.0  ...   0.0     0.0    0.0    0.0    0.0   0.0   0.0      0.0  0.0   \n",
       "2      0.0  ...   0.0     0.0    0.0    0.0    0.0   0.0   0.0      0.0  0.0   \n",
       "3      0.0  ...   0.0     0.0    0.0    0.0    0.0   0.0   0.0      0.0  0.0   \n",
       "4      0.0  ...   0.0     0.0    0.0    0.0    0.0   0.0   0.0      0.0  0.0   \n",
       "...    ...  ...   ...     ...    ...    ...    ...   ...   ...      ...  ...   \n",
       "2666   0.0  ...   0.0     0.0    0.0    0.0    0.0   0.0   0.0      0.0  0.0   \n",
       "2667   0.0  ...   0.0     0.0    0.0    0.0    0.0   0.0   0.0      0.0  0.0   \n",
       "2668   0.0  ...   0.0     0.0    0.0    0.0    0.0   0.0   0.0      0.0  0.0   \n",
       "2669   0.0  ...   0.0     0.0    0.0    0.0    0.0   0.0   0.0      0.0  0.0   \n",
       "2670   0.0  ...   0.0     0.0    0.0    0.0    0.0   0.0   0.0      0.0  0.0   \n",
       "\n",
       "      şimdi  \n",
       "0       0.0  \n",
       "1       0.0  \n",
       "2       0.0  \n",
       "3       0.0  \n",
       "4       0.0  \n",
       "...     ...  \n",
       "2666    0.0  \n",
       "2667    0.0  \n",
       "2668    0.0  \n",
       "2669    0.0  \n",
       "2670    0.0  \n",
       "\n",
       "[2671 rows x 12993 columns]"
      ],
      "text/html": "<div>\n<style scoped>\n    .dataframe tbody tr th:only-of-type {\n        vertical-align: middle;\n    }\n\n    .dataframe tbody tr th {\n        vertical-align: top;\n    }\n\n    .dataframe thead th {\n        text-align: right;\n    }\n</style>\n<table border=\"1\" class=\"dataframe\">\n  <thead>\n    <tr style=\"text-align: right;\">\n      <th></th>\n      <th>aaa</th>\n      <th>aah</th>\n      <th>aaliyah</th>\n      <th>aback</th>\n      <th>abandoned</th>\n      <th>abashed</th>\n      <th>abc</th>\n      <th>abdul</th>\n      <th>abeat</th>\n      <th>abel</th>\n      <th>...</th>\n      <th>zulu</th>\n      <th>zurück</th>\n      <th>çünkü</th>\n      <th>étais</th>\n      <th>était</th>\n      <th>être</th>\n      <th>über</th>\n      <th>üstünde</th>\n      <th>şey</th>\n      <th>şimdi</th>\n    </tr>\n  </thead>\n  <tbody>\n    <tr>\n      <th>0</th>\n      <td>0.000000</td>\n      <td>0.0</td>\n      <td>0.0</td>\n      <td>0.0</td>\n      <td>0.0</td>\n      <td>0.0</td>\n      <td>0.0</td>\n      <td>0.0</td>\n      <td>0.0</td>\n      <td>0.0</td>\n      <td>...</td>\n      <td>0.0</td>\n      <td>0.0</td>\n      <td>0.0</td>\n      <td>0.0</td>\n      <td>0.0</td>\n      <td>0.0</td>\n      <td>0.0</td>\n      <td>0.0</td>\n      <td>0.0</td>\n      <td>0.0</td>\n    </tr>\n    <tr>\n      <th>1</th>\n      <td>0.000000</td>\n      <td>0.0</td>\n      <td>0.0</td>\n      <td>0.0</td>\n      <td>0.0</td>\n      <td>0.0</td>\n      <td>0.0</td>\n      <td>0.0</td>\n      <td>0.0</td>\n      <td>0.0</td>\n      <td>...</td>\n      <td>0.0</td>\n      <td>0.0</td>\n      <td>0.0</td>\n      <td>0.0</td>\n      <td>0.0</td>\n      <td>0.0</td>\n      <td>0.0</td>\n      <td>0.0</td>\n      <td>0.0</td>\n      <td>0.0</td>\n    </tr>\n    <tr>\n      <th>2</th>\n      <td>0.000000</td>\n      <td>0.0</td>\n      <td>0.0</td>\n      <td>0.0</td>\n      <td>0.0</td>\n      <td>0.0</td>\n      <td>0.0</td>\n      <td>0.0</td>\n      <td>0.0</td>\n      <td>0.0</td>\n      <td>...</td>\n      <td>0.0</td>\n      <td>0.0</td>\n      <td>0.0</td>\n      <td>0.0</td>\n      <td>0.0</td>\n      <td>0.0</td>\n      <td>0.0</td>\n      <td>0.0</td>\n      <td>0.0</td>\n      <td>0.0</td>\n    </tr>\n    <tr>\n      <th>3</th>\n      <td>0.046599</td>\n      <td>0.0</td>\n      <td>0.0</td>\n      <td>0.0</td>\n      <td>0.0</td>\n      <td>0.0</td>\n      <td>0.0</td>\n      <td>0.0</td>\n      <td>0.0</td>\n      <td>0.0</td>\n      <td>...</td>\n      <td>0.0</td>\n      <td>0.0</td>\n      <td>0.0</td>\n      <td>0.0</td>\n      <td>0.0</td>\n      <td>0.0</td>\n      <td>0.0</td>\n      <td>0.0</td>\n      <td>0.0</td>\n      <td>0.0</td>\n    </tr>\n    <tr>\n      <th>4</th>\n      <td>0.000000</td>\n      <td>0.0</td>\n      <td>0.0</td>\n      <td>0.0</td>\n      <td>0.0</td>\n      <td>0.0</td>\n      <td>0.0</td>\n      <td>0.0</td>\n      <td>0.0</td>\n      <td>0.0</td>\n      <td>...</td>\n      <td>0.0</td>\n      <td>0.0</td>\n      <td>0.0</td>\n      <td>0.0</td>\n      <td>0.0</td>\n      <td>0.0</td>\n      <td>0.0</td>\n      <td>0.0</td>\n      <td>0.0</td>\n      <td>0.0</td>\n    </tr>\n    <tr>\n      <th>...</th>\n      <td>...</td>\n      <td>...</td>\n      <td>...</td>\n      <td>...</td>\n      <td>...</td>\n      <td>...</td>\n      <td>...</td>\n      <td>...</td>\n      <td>...</td>\n      <td>...</td>\n      <td>...</td>\n      <td>...</td>\n      <td>...</td>\n      <td>...</td>\n      <td>...</td>\n      <td>...</td>\n      <td>...</td>\n      <td>...</td>\n      <td>...</td>\n      <td>...</td>\n      <td>...</td>\n    </tr>\n    <tr>\n      <th>2666</th>\n      <td>0.000000</td>\n      <td>0.0</td>\n      <td>0.0</td>\n      <td>0.0</td>\n      <td>0.0</td>\n      <td>0.0</td>\n      <td>0.0</td>\n      <td>0.0</td>\n      <td>0.0</td>\n      <td>0.0</td>\n      <td>...</td>\n      <td>0.0</td>\n      <td>0.0</td>\n      <td>0.0</td>\n      <td>0.0</td>\n      <td>0.0</td>\n      <td>0.0</td>\n      <td>0.0</td>\n      <td>0.0</td>\n      <td>0.0</td>\n      <td>0.0</td>\n    </tr>\n    <tr>\n      <th>2667</th>\n      <td>0.000000</td>\n      <td>0.0</td>\n      <td>0.0</td>\n      <td>0.0</td>\n      <td>0.0</td>\n      <td>0.0</td>\n      <td>0.0</td>\n      <td>0.0</td>\n      <td>0.0</td>\n      <td>0.0</td>\n      <td>...</td>\n      <td>0.0</td>\n      <td>0.0</td>\n      <td>0.0</td>\n      <td>0.0</td>\n      <td>0.0</td>\n      <td>0.0</td>\n      <td>0.0</td>\n      <td>0.0</td>\n      <td>0.0</td>\n      <td>0.0</td>\n    </tr>\n    <tr>\n      <th>2668</th>\n      <td>0.000000</td>\n      <td>0.0</td>\n      <td>0.0</td>\n      <td>0.0</td>\n      <td>0.0</td>\n      <td>0.0</td>\n      <td>0.0</td>\n      <td>0.0</td>\n      <td>0.0</td>\n      <td>0.0</td>\n      <td>...</td>\n      <td>0.0</td>\n      <td>0.0</td>\n      <td>0.0</td>\n      <td>0.0</td>\n      <td>0.0</td>\n      <td>0.0</td>\n      <td>0.0</td>\n      <td>0.0</td>\n      <td>0.0</td>\n      <td>0.0</td>\n    </tr>\n    <tr>\n      <th>2669</th>\n      <td>0.000000</td>\n      <td>0.0</td>\n      <td>0.0</td>\n      <td>0.0</td>\n      <td>0.0</td>\n      <td>0.0</td>\n      <td>0.0</td>\n      <td>0.0</td>\n      <td>0.0</td>\n      <td>0.0</td>\n      <td>...</td>\n      <td>0.0</td>\n      <td>0.0</td>\n      <td>0.0</td>\n      <td>0.0</td>\n      <td>0.0</td>\n      <td>0.0</td>\n      <td>0.0</td>\n      <td>0.0</td>\n      <td>0.0</td>\n      <td>0.0</td>\n    </tr>\n    <tr>\n      <th>2670</th>\n      <td>0.000000</td>\n      <td>0.0</td>\n      <td>0.0</td>\n      <td>0.0</td>\n      <td>0.0</td>\n      <td>0.0</td>\n      <td>0.0</td>\n      <td>0.0</td>\n      <td>0.0</td>\n      <td>0.0</td>\n      <td>...</td>\n      <td>0.0</td>\n      <td>0.0</td>\n      <td>0.0</td>\n      <td>0.0</td>\n      <td>0.0</td>\n      <td>0.0</td>\n      <td>0.0</td>\n      <td>0.0</td>\n      <td>0.0</td>\n      <td>0.0</td>\n    </tr>\n  </tbody>\n</table>\n<p>2671 rows × 12993 columns</p>\n</div>"
     },
     "metadata": {},
     "execution_count": 76
    }
   ],
   "source": [
    "doc_term_matrix2"
   ]
  },
  {
   "source": [
    "### LSA below"
   ],
   "cell_type": "markdown",
   "metadata": {}
  },
  {
   "cell_type": "code",
   "execution_count": 67,
   "metadata": {},
   "outputs": [
    {
     "output_type": "execute_result",
     "data": {
      "text/plain": [
       "array([0.0036137 , 0.0097805 , 0.00633444, 0.00525201, 0.0052064 ])"
      ]
     },
     "metadata": {},
     "execution_count": 67
    }
   ],
   "source": [
    "lsa = TruncatedSVD(5)\n",
    "doc_topic = lsa.fit_transform(doc_term_matrix2)\n",
    "lsa.explained_variance_ratio_"
   ]
  },
  {
   "cell_type": "code",
   "execution_count": 68,
   "metadata": {},
   "outputs": [
    {
     "output_type": "execute_result",
     "data": {
      "text/plain": [
       "         able  account    ace   ache    act  actin  acting  action  actually  \\\n",
       "topic1  0.008    0.005  0.003  0.003  0.029  0.012   0.007   0.007     0.006   \n",
       "topic2 -0.007    0.008  0.001 -0.002  0.025  0.009   0.003   0.005    -0.003   \n",
       "topic3 -0.007   -0.001  0.001 -0.003 -0.006 -0.003  -0.002  -0.001    -0.007   \n",
       "topic4  0.001    0.000 -0.000  0.000 -0.002  0.000  -0.000   0.001     0.002   \n",
       "topic5  0.001    0.001  0.001  0.000 -0.004 -0.005  -0.002  -0.004    -0.005   \n",
       "\n",
       "          add  ...    yep    yes  yesterday   york  young  younger  youth  \\\n",
       "topic1  0.004  ...  0.008  0.059      0.016  0.014  0.052    0.005  0.002   \n",
       "topic2  0.001  ...  0.005 -0.042     -0.018  0.014  0.032   -0.003 -0.001   \n",
       "topic3 -0.002  ... -0.002  0.006     -0.015  0.001  0.010    0.000 -0.002   \n",
       "topic4  0.000  ...  0.003  0.003      0.000  0.002 -0.004    0.001  0.001   \n",
       "topic5 -0.002  ... -0.005 -0.033      0.016 -0.001  0.018   -0.002 -0.001   \n",
       "\n",
       "          yuh    yup   zone  \n",
       "topic1  0.006  0.005  0.009  \n",
       "topic2  0.002  0.007  0.007  \n",
       "topic3 -0.000  0.002  0.006  \n",
       "topic4  0.004  0.000  0.000  \n",
       "topic5 -0.002 -0.001 -0.007  \n",
       "\n",
       "[5 rows x 2292 columns]"
      ],
      "text/html": "<div>\n<style scoped>\n    .dataframe tbody tr th:only-of-type {\n        vertical-align: middle;\n    }\n\n    .dataframe tbody tr th {\n        vertical-align: top;\n    }\n\n    .dataframe thead th {\n        text-align: right;\n    }\n</style>\n<table border=\"1\" class=\"dataframe\">\n  <thead>\n    <tr style=\"text-align: right;\">\n      <th></th>\n      <th>able</th>\n      <th>account</th>\n      <th>ace</th>\n      <th>ache</th>\n      <th>act</th>\n      <th>actin</th>\n      <th>acting</th>\n      <th>action</th>\n      <th>actually</th>\n      <th>add</th>\n      <th>...</th>\n      <th>yep</th>\n      <th>yes</th>\n      <th>yesterday</th>\n      <th>york</th>\n      <th>young</th>\n      <th>younger</th>\n      <th>youth</th>\n      <th>yuh</th>\n      <th>yup</th>\n      <th>zone</th>\n    </tr>\n  </thead>\n  <tbody>\n    <tr>\n      <th>topic1</th>\n      <td>0.008</td>\n      <td>0.005</td>\n      <td>0.003</td>\n      <td>0.003</td>\n      <td>0.029</td>\n      <td>0.012</td>\n      <td>0.007</td>\n      <td>0.007</td>\n      <td>0.006</td>\n      <td>0.004</td>\n      <td>...</td>\n      <td>0.008</td>\n      <td>0.059</td>\n      <td>0.016</td>\n      <td>0.014</td>\n      <td>0.052</td>\n      <td>0.005</td>\n      <td>0.002</td>\n      <td>0.006</td>\n      <td>0.005</td>\n      <td>0.009</td>\n    </tr>\n    <tr>\n      <th>topic2</th>\n      <td>-0.007</td>\n      <td>0.008</td>\n      <td>0.001</td>\n      <td>-0.002</td>\n      <td>0.025</td>\n      <td>0.009</td>\n      <td>0.003</td>\n      <td>0.005</td>\n      <td>-0.003</td>\n      <td>0.001</td>\n      <td>...</td>\n      <td>0.005</td>\n      <td>-0.042</td>\n      <td>-0.018</td>\n      <td>0.014</td>\n      <td>0.032</td>\n      <td>-0.003</td>\n      <td>-0.001</td>\n      <td>0.002</td>\n      <td>0.007</td>\n      <td>0.007</td>\n    </tr>\n    <tr>\n      <th>topic3</th>\n      <td>-0.007</td>\n      <td>-0.001</td>\n      <td>0.001</td>\n      <td>-0.003</td>\n      <td>-0.006</td>\n      <td>-0.003</td>\n      <td>-0.002</td>\n      <td>-0.001</td>\n      <td>-0.007</td>\n      <td>-0.002</td>\n      <td>...</td>\n      <td>-0.002</td>\n      <td>0.006</td>\n      <td>-0.015</td>\n      <td>0.001</td>\n      <td>0.010</td>\n      <td>0.000</td>\n      <td>-0.002</td>\n      <td>-0.000</td>\n      <td>0.002</td>\n      <td>0.006</td>\n    </tr>\n    <tr>\n      <th>topic4</th>\n      <td>0.001</td>\n      <td>0.000</td>\n      <td>-0.000</td>\n      <td>0.000</td>\n      <td>-0.002</td>\n      <td>0.000</td>\n      <td>-0.000</td>\n      <td>0.001</td>\n      <td>0.002</td>\n      <td>0.000</td>\n      <td>...</td>\n      <td>0.003</td>\n      <td>0.003</td>\n      <td>0.000</td>\n      <td>0.002</td>\n      <td>-0.004</td>\n      <td>0.001</td>\n      <td>0.001</td>\n      <td>0.004</td>\n      <td>0.000</td>\n      <td>0.000</td>\n    </tr>\n    <tr>\n      <th>topic5</th>\n      <td>0.001</td>\n      <td>0.001</td>\n      <td>0.001</td>\n      <td>0.000</td>\n      <td>-0.004</td>\n      <td>-0.005</td>\n      <td>-0.002</td>\n      <td>-0.004</td>\n      <td>-0.005</td>\n      <td>-0.002</td>\n      <td>...</td>\n      <td>-0.005</td>\n      <td>-0.033</td>\n      <td>0.016</td>\n      <td>-0.001</td>\n      <td>0.018</td>\n      <td>-0.002</td>\n      <td>-0.001</td>\n      <td>-0.002</td>\n      <td>-0.001</td>\n      <td>-0.007</td>\n    </tr>\n  </tbody>\n</table>\n<p>5 rows × 2292 columns</p>\n</div>"
     },
     "metadata": {},
     "execution_count": 68
    }
   ],
   "source": [
    "topic_word = pd.DataFrame(\n",
    "    lsa.components_.round(3), \n",
    "    index = ['topic1','topic2','topic3','topic4','topic5'],\n",
    "    columns = tfidf.get_feature_names()\n",
    "    )\n",
    "topic_word"
   ]
  },
  {
   "cell_type": "code",
   "execution_count": 69,
   "metadata": {},
   "outputs": [],
   "source": [
    "def display_topics(model, feature_names, no_top_words, topic_names=None):\n",
    "    for ix, topic in enumerate(model.components_):\n",
    "        if not topic_names or not topic_names[ix]:\n",
    "            print(\"\\nTopic \", ix)\n",
    "        else:\n",
    "            print(\"\\nTopic: '\",topic_names[ix],\"'\")\n",
    "        print(\", \".join([feature_names[i]\n",
    "                        for i in topic.argsort()[:-no_top_words - 1:-1]]))"
   ]
  },
  {
   "cell_type": "code",
   "execution_count": 70,
   "metadata": {},
   "outputs": [
    {
     "output_type": "stream",
     "name": "stdout",
     "text": [
      "\nTopic  0\nanyour, authentic, alligator, acadian, arguing, ascribe, abyss, anfractuosities, alive, aboo\n\nTopic  1\nanyour, acadian, ascribe, alive, abolishing, antenna, allfaulters, andrea, alwagers, aluminum\n\nTopic  2\nauthentic, accompany, afore, apostrophe, armschair, abbess, alligator, alert, ating, arzt\n\nTopic  3\narchaic, approvingly, arzt, aflash, accompany, askit, angelic, afore, armschair, airy\n\nTopic  4\nauthentic, archaic, anyour, acadian, abolishing, alive, abstract, aristocracy, ascribe, algiers\n"
     ]
    }
   ],
   "source": [
    "display_topics(lsa, cv.get_feature_names(), 10)"
   ]
  },
  {
   "cell_type": "code",
   "execution_count": null,
   "metadata": {},
   "outputs": [],
   "source": []
  },
  {
   "cell_type": "code",
   "execution_count": null,
   "metadata": {},
   "outputs": [],
   "source": []
  },
  {
   "source": [
    "### NMF below"
   ],
   "cell_type": "markdown",
   "metadata": {}
  },
  {
   "cell_type": "code",
   "execution_count": 108,
   "metadata": {},
   "outputs": [],
   "source": [
    "nmf_model = NMF(5)\n",
    "doc_topic2 = nmf_model.fit_transform(doc_term_matrix2)"
   ]
  },
  {
   "cell_type": "code",
   "execution_count": 117,
   "metadata": {},
   "outputs": [
    {
     "output_type": "execute_result",
     "data": {
      "text/plain": [
       "      topic1  topic2  topic3  topic4  topic5\n",
       "0      0.051   0.000   0.000   0.011   0.043\n",
       "1      0.070   0.000   0.005   0.009   0.000\n",
       "2      0.041   0.002   0.000   0.000   0.009\n",
       "3      0.018   0.011   0.002   0.018   0.004\n",
       "4      0.002   0.000   0.000   0.082   0.000\n",
       "...      ...     ...     ...     ...     ...\n",
       "2666   0.057   0.000   0.000   0.000   0.026\n",
       "2667   0.042   0.000   0.005   0.060   0.000\n",
       "2668   0.011   0.003   0.004   0.011   0.048\n",
       "2669   0.052   0.006   0.135   0.000   0.011\n",
       "2670   0.026   0.021   0.000   0.001   0.054\n",
       "\n",
       "[2671 rows x 5 columns]"
      ],
      "text/html": "<div>\n<style scoped>\n    .dataframe tbody tr th:only-of-type {\n        vertical-align: middle;\n    }\n\n    .dataframe tbody tr th {\n        vertical-align: top;\n    }\n\n    .dataframe thead th {\n        text-align: right;\n    }\n</style>\n<table border=\"1\" class=\"dataframe\">\n  <thead>\n    <tr style=\"text-align: right;\">\n      <th></th>\n      <th>topic1</th>\n      <th>topic2</th>\n      <th>topic3</th>\n      <th>topic4</th>\n      <th>topic5</th>\n    </tr>\n  </thead>\n  <tbody>\n    <tr>\n      <th>0</th>\n      <td>0.051</td>\n      <td>0.000</td>\n      <td>0.000</td>\n      <td>0.011</td>\n      <td>0.043</td>\n    </tr>\n    <tr>\n      <th>1</th>\n      <td>0.070</td>\n      <td>0.000</td>\n      <td>0.005</td>\n      <td>0.009</td>\n      <td>0.000</td>\n    </tr>\n    <tr>\n      <th>2</th>\n      <td>0.041</td>\n      <td>0.002</td>\n      <td>0.000</td>\n      <td>0.000</td>\n      <td>0.009</td>\n    </tr>\n    <tr>\n      <th>3</th>\n      <td>0.018</td>\n      <td>0.011</td>\n      <td>0.002</td>\n      <td>0.018</td>\n      <td>0.004</td>\n    </tr>\n    <tr>\n      <th>4</th>\n      <td>0.002</td>\n      <td>0.000</td>\n      <td>0.000</td>\n      <td>0.082</td>\n      <td>0.000</td>\n    </tr>\n    <tr>\n      <th>...</th>\n      <td>...</td>\n      <td>...</td>\n      <td>...</td>\n      <td>...</td>\n      <td>...</td>\n    </tr>\n    <tr>\n      <th>2666</th>\n      <td>0.057</td>\n      <td>0.000</td>\n      <td>0.000</td>\n      <td>0.000</td>\n      <td>0.026</td>\n    </tr>\n    <tr>\n      <th>2667</th>\n      <td>0.042</td>\n      <td>0.000</td>\n      <td>0.005</td>\n      <td>0.060</td>\n      <td>0.000</td>\n    </tr>\n    <tr>\n      <th>2668</th>\n      <td>0.011</td>\n      <td>0.003</td>\n      <td>0.004</td>\n      <td>0.011</td>\n      <td>0.048</td>\n    </tr>\n    <tr>\n      <th>2669</th>\n      <td>0.052</td>\n      <td>0.006</td>\n      <td>0.135</td>\n      <td>0.000</td>\n      <td>0.011</td>\n    </tr>\n    <tr>\n      <th>2670</th>\n      <td>0.026</td>\n      <td>0.021</td>\n      <td>0.000</td>\n      <td>0.001</td>\n      <td>0.054</td>\n    </tr>\n  </tbody>\n</table>\n<p>2671 rows × 5 columns</p>\n</div>"
     },
     "metadata": {},
     "execution_count": 117
    }
   ],
   "source": [
    "doc_topic_mat = pd.DataFrame(\n",
    "    doc_topic2.round(3),\n",
    "    columns = ['topic1','topic2','topic3','topic4','topic5']\n",
    ")\n",
    "doc_topic_mat"
   ]
  },
  {
   "cell_type": "code",
   "execution_count": 112,
   "metadata": {},
   "outputs": [
    {
     "output_type": "execute_result",
     "data": {
      "text/plain": [
       "     aaa    aah  aaliyah  aback  abandoned  abashed    abc  abdul  abeat  \\\n",
       "0  0.004  0.019    0.000    0.0      0.004      0.0  0.000  0.001  0.001   \n",
       "1  0.000  0.000    0.003    0.0      0.000      0.0  0.001  0.000  0.000   \n",
       "2  0.000  0.000    0.000    0.0      0.000      0.0  0.000  0.000  0.000   \n",
       "3  0.000  0.012    0.001    0.0      0.000      0.0  0.000  0.000  0.000   \n",
       "4  0.000  0.000    0.002    0.0      0.000      0.0  0.002  0.000  0.000   \n",
       "\n",
       "    abel  ...   zulu  zurück  çünkü  étais  était  être   über  üstünde  şey  \\\n",
       "0  0.001  ...  0.000   0.000    0.0    0.0    0.0   0.0  0.002      0.0  0.0   \n",
       "1  0.000  ...  0.000   0.003    0.0    0.0    0.0   0.0  0.000      0.0  0.0   \n",
       "2  0.000  ...  0.000   0.000    0.0    0.0    0.0   0.0  0.000      0.0  0.0   \n",
       "3  0.000  ...  0.001   0.000    0.0    0.0    0.0   0.0  0.000      0.0  0.0   \n",
       "4  0.000  ...  0.000   0.000    0.0    0.0    0.0   0.0  0.000      0.0  0.0   \n",
       "\n",
       "   şimdi  \n",
       "0    0.0  \n",
       "1    0.0  \n",
       "2    0.0  \n",
       "3    0.0  \n",
       "4    0.0  \n",
       "\n",
       "[5 rows x 12993 columns]"
      ],
      "text/html": "<div>\n<style scoped>\n    .dataframe tbody tr th:only-of-type {\n        vertical-align: middle;\n    }\n\n    .dataframe tbody tr th {\n        vertical-align: top;\n    }\n\n    .dataframe thead th {\n        text-align: right;\n    }\n</style>\n<table border=\"1\" class=\"dataframe\">\n  <thead>\n    <tr style=\"text-align: right;\">\n      <th></th>\n      <th>aaa</th>\n      <th>aah</th>\n      <th>aaliyah</th>\n      <th>aback</th>\n      <th>abandoned</th>\n      <th>abashed</th>\n      <th>abc</th>\n      <th>abdul</th>\n      <th>abeat</th>\n      <th>abel</th>\n      <th>...</th>\n      <th>zulu</th>\n      <th>zurück</th>\n      <th>çünkü</th>\n      <th>étais</th>\n      <th>était</th>\n      <th>être</th>\n      <th>über</th>\n      <th>üstünde</th>\n      <th>şey</th>\n      <th>şimdi</th>\n    </tr>\n  </thead>\n  <tbody>\n    <tr>\n      <th>0</th>\n      <td>0.004</td>\n      <td>0.019</td>\n      <td>0.000</td>\n      <td>0.0</td>\n      <td>0.004</td>\n      <td>0.0</td>\n      <td>0.000</td>\n      <td>0.001</td>\n      <td>0.001</td>\n      <td>0.001</td>\n      <td>...</td>\n      <td>0.000</td>\n      <td>0.000</td>\n      <td>0.0</td>\n      <td>0.0</td>\n      <td>0.0</td>\n      <td>0.0</td>\n      <td>0.002</td>\n      <td>0.0</td>\n      <td>0.0</td>\n      <td>0.0</td>\n    </tr>\n    <tr>\n      <th>1</th>\n      <td>0.000</td>\n      <td>0.000</td>\n      <td>0.003</td>\n      <td>0.0</td>\n      <td>0.000</td>\n      <td>0.0</td>\n      <td>0.001</td>\n      <td>0.000</td>\n      <td>0.000</td>\n      <td>0.000</td>\n      <td>...</td>\n      <td>0.000</td>\n      <td>0.003</td>\n      <td>0.0</td>\n      <td>0.0</td>\n      <td>0.0</td>\n      <td>0.0</td>\n      <td>0.000</td>\n      <td>0.0</td>\n      <td>0.0</td>\n      <td>0.0</td>\n    </tr>\n    <tr>\n      <th>2</th>\n      <td>0.000</td>\n      <td>0.000</td>\n      <td>0.000</td>\n      <td>0.0</td>\n      <td>0.000</td>\n      <td>0.0</td>\n      <td>0.000</td>\n      <td>0.000</td>\n      <td>0.000</td>\n      <td>0.000</td>\n      <td>...</td>\n      <td>0.000</td>\n      <td>0.000</td>\n      <td>0.0</td>\n      <td>0.0</td>\n      <td>0.0</td>\n      <td>0.0</td>\n      <td>0.000</td>\n      <td>0.0</td>\n      <td>0.0</td>\n      <td>0.0</td>\n    </tr>\n    <tr>\n      <th>3</th>\n      <td>0.000</td>\n      <td>0.012</td>\n      <td>0.001</td>\n      <td>0.0</td>\n      <td>0.000</td>\n      <td>0.0</td>\n      <td>0.000</td>\n      <td>0.000</td>\n      <td>0.000</td>\n      <td>0.000</td>\n      <td>...</td>\n      <td>0.001</td>\n      <td>0.000</td>\n      <td>0.0</td>\n      <td>0.0</td>\n      <td>0.0</td>\n      <td>0.0</td>\n      <td>0.000</td>\n      <td>0.0</td>\n      <td>0.0</td>\n      <td>0.0</td>\n    </tr>\n    <tr>\n      <th>4</th>\n      <td>0.000</td>\n      <td>0.000</td>\n      <td>0.002</td>\n      <td>0.0</td>\n      <td>0.000</td>\n      <td>0.0</td>\n      <td>0.002</td>\n      <td>0.000</td>\n      <td>0.000</td>\n      <td>0.000</td>\n      <td>...</td>\n      <td>0.000</td>\n      <td>0.000</td>\n      <td>0.0</td>\n      <td>0.0</td>\n      <td>0.0</td>\n      <td>0.0</td>\n      <td>0.000</td>\n      <td>0.0</td>\n      <td>0.0</td>\n      <td>0.0</td>\n    </tr>\n  </tbody>\n</table>\n<p>5 rows × 12993 columns</p>\n</div>"
     },
     "metadata": {},
     "execution_count": 112
    }
   ],
   "source": [
    "topic_word = pd.DataFrame(\n",
    "    nmf_model.components_.round(3),\n",
    "    columns = tfidf.get_feature_names()\n",
    "    )\n",
    "topic_word"
   ]
  },
  {
   "cell_type": "code",
   "execution_count": 110,
   "metadata": {},
   "outputs": [
    {
     "output_type": "stream",
     "name": "stdout",
     "text": [
      "\nTopic  0\ndream, believe, gone, forever, long, remember, wish, true, fall, inside, home, face, place, better, stay\n\nTopic  1\nnigga, bitch, shit, fuck, ayy, money, gon, lil, hoe, real, big, hit, fuckin, pussy, dick\n\nTopic  2\ntonight, alright, waiting, tomorrow, fight, party, tight, kiss, inside, gotta, drink, dancing, boo, end, broken\n\nTopic  3\ndance, body, shake, rock, everybody, party, stop, turn, floor, play, music, round, roll, club, beat\n\nTopic  4\nreally, gotta, bad, somebody, woman, real, friend, yes, lover, try, babe, stay, sorry, talk, care\n"
     ]
    }
   ],
   "source": [
    "display_topics(nmf_model, tfidf.get_feature_names(), 15)"
   ]
  },
  {
   "cell_type": "code",
   "execution_count": null,
   "metadata": {},
   "outputs": [],
   "source": []
  },
  {
   "cell_type": "code",
   "execution_count": null,
   "metadata": {},
   "outputs": [],
   "source": []
  },
  {
   "source": [
    "### LDA Below"
   ],
   "cell_type": "markdown",
   "metadata": {}
  },
  {
   "cell_type": "code",
   "execution_count": 74,
   "metadata": {},
   "outputs": [],
   "source": [
    "# # for TF DTM\n",
    "# lda_tf = LatentDirichletAllocation(n_components=20, random_state=0)\n",
    "# lda_tf.fit(doc_term_matrix)\n",
    "\n",
    "# # for TFIDF DTM\n",
    "# lda_tfidf = LatentDirichletAllocation(n_components=20, random_state=0)\n",
    "# lda_tfidf.fit(doc_term_matrix2)"
   ]
  },
  {
   "cell_type": "code",
   "execution_count": null,
   "metadata": {},
   "outputs": [],
   "source": []
  }
 ]
}