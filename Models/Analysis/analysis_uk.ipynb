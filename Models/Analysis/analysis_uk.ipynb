{
 "metadata": {
  "language_info": {
   "codemirror_mode": {
    "name": "ipython",
    "version": 3
   },
   "file_extension": ".py",
   "mimetype": "text/x-python",
   "name": "python",
   "nbconvert_exporter": "python",
   "pygments_lexer": "ipython3",
   "version": "3.8.3-final"
  },
  "orig_nbformat": 2,
  "kernelspec": {
   "name": "python3",
   "display_name": "Python 3"
  }
 },
 "nbformat": 4,
 "nbformat_minor": 2,
 "cells": [
  {
   "source": [
    "## Purpose \n",
    "First model showed that using TF-IDF vectorizer and NMF decomposition led to the topics that made the most sense. \n",
    "Will re-iterate that pipeline only here, and expand analysis, for the us_pops data\n"
   ],
   "cell_type": "markdown",
   "metadata": {}
  },
  {
   "cell_type": "code",
   "execution_count": 1,
   "metadata": {},
   "outputs": [],
   "source": [
    "import pickle\n",
    "import pandas as pd\n",
    "\n",
    "import re\n",
    "import string\n",
    "from nltk.corpus import stopwords\n",
    "from nltk.stem import WordNetLemmatizer\n",
    "\n",
    "from sklearn.feature_extraction.text import TfidfVectorizer\n",
    "from sklearn.decomposition import NMF\n",
    "\n",
    "from sklearn.feature_extraction import text"
   ]
  },
  {
   "cell_type": "code",
   "execution_count": 2,
   "metadata": {},
   "outputs": [],
   "source": [
    "file = open('../../Webscraper/uk_pops_raw', 'rb')\n",
    "uk_pops_raw = pickle.load(file)\n",
    "uk_pops_raw = uk_pops_raw.dropna().reset_index(drop=True)\n",
    "uk_pops = uk_pops_raw['Lyrics']\n",
    "\n",
    "# only keep alphanumeric, remove newlines, and make everything lowercase\n",
    "alphanumeric = lambda x: re.sub('\\w*\\d\\w*', ' ', x)\n",
    "rm_newline = lambda x: re.sub(\"\\n\", ' ',x)\n",
    "punc_lower = lambda x: re.sub('[%s]' % re.escape(string.punctuation), ' ', x.lower())\n",
    "\n",
    "uk_pops_nopunc = uk_pops.map(alphanumeric).map(rm_newline).map(punc_lower)"
   ]
  },
  {
   "cell_type": "code",
   "execution_count": 3,
   "metadata": {},
   "outputs": [],
   "source": [
    "# lemmatize. do this by turning every line into a list of words, and concat back to full lyrics\n",
    "uk_pops_list = uk_pops_nopunc.apply(lambda x: x.split(' '))\n",
    "\n",
    "def lemmatize(list_of_words):\n",
    "    lmt = WordNetLemmatizer()\n",
    "    strg = ''\n",
    "    for word in list_of_words:\n",
    "        lem_word = lmt.lemmatize(word)\n",
    "        if len(lem_word) > 2:\n",
    "            strg += lem_word + ' '\n",
    "    return strg\n",
    "\n",
    "uk_pops_clean = uk_pops_list.apply(lemmatize)"
   ]
  },
  {
   "cell_type": "code",
   "execution_count": 10,
   "metadata": {},
   "outputs": [],
   "source": [
    "stop_words_added = text.ENGLISH_STOP_WORDS.union(['huh','woo','whoa','hey','hold','ooh','aah','whoa','oooh','ayy','hoo'])\n",
    "\n",
    "tfidf =  TfidfVectorizer(\n",
    "    stop_words = stop_words_added,\n",
    "    max_df = 0.2,\n",
    "    min_df = 0.001\n",
    ")\n",
    "Y = tfidf.fit_transform(uk_pops_clean)\n",
    "doc_term_matrix = pd.DataFrame(Y.toarray(), columns=tfidf.get_feature_names())"
   ]
  },
  {
   "cell_type": "code",
   "execution_count": 11,
   "metadata": {},
   "outputs": [],
   "source": [
    "def display_topics(model, feature_names, no_top_words, topic_names=None):\n",
    "    for ix, topic in enumerate(model.components_):\n",
    "        if not topic_names or not topic_names[ix]:\n",
    "            print(\"\\nTopic \", ix)\n",
    "        else:\n",
    "            print(\"\\nTopic: '\",topic_names[ix],\"'\")\n",
    "        print(\", \".join([feature_names[i]\n",
    "                        for i in topic.argsort()[:-no_top_words - 1:-1]]))"
   ]
  },
  {
   "cell_type": "code",
   "execution_count": 18,
   "metadata": {},
   "outputs": [
    {
     "output_type": "stream",
     "name": "stdout",
     "text": [
      "\nTopic  0\nreally, did, long, dream, thought, believe, gone, word, face, stay, live, better, change, fall, wrong\n\nTopic  1\ntonight, stay, tomorrow, alright, dancing, hand, going, fight, promise, feelin, kiss, fine, chance, party, tight\n\nTopic  2\ndance, everybody, body, party, stop, rock, music, beat, floor, shake, hand, alright, club, rhythm, gon\n\nTopic  3\nlittle, bit, bad, work, crazy, maybe, late, broken, new, fall, conversation, middle, hot, fun, looking\n\nTopic  4\nboy, gotta, bad, bring, better, kiss, walk, feeling, talk, crazy, head, superstar, sweet, nah, really\n\nTopic  5\ntouch, kiss, high, fly, sky, body, doo, crazy, waiting, real, anybody, head, feeling, close, warmth\n\nTopic  6\ncoming, turn, home, run, light, gone, shine, sun, til, babe, carry, leave, song, running, waiting\n"
     ]
    }
   ],
   "source": [
    "nmf_model = NMF(7)\n",
    "doc_topic = nmf_model.fit_transform(doc_term_matrix)\n",
    "\n",
    "display_topics(nmf_model, tfidf.get_feature_names(), 15)"
   ]
  },
  {
   "cell_type": "code",
   "execution_count": 19,
   "metadata": {},
   "outputs": [],
   "source": [
    "doc_topic_mat = pd.DataFrame(\n",
    "    doc_topic.round(3),\n",
    "    columns = ['topic1','topic2','topic3','topic4','topic5','topic6','topic7']\n",
    ")\n",
    "\n",
    "# re-add Song/Artist\n",
    "doc_topic_mat = doc_topic_mat.join(uk_pops_raw[['Song','Artist']])"
   ]
  },
  {
   "cell_type": "code",
   "execution_count": 17,
   "metadata": {},
   "outputs": [
    {
     "output_type": "execute_result",
     "data": {
      "text/plain": [
       "      topic1  topic2  topic3  topic4  topic5  topic6  topic7  topic8  topic9  \\\n",
       "1460   0.000   0.000   0.000   0.000   0.482   0.000   0.000   0.000   0.000   \n",
       "1309   0.000   0.000   0.000   0.024   0.413   0.000   0.000   0.000   0.049   \n",
       "1138   0.000   0.000   0.000   0.000   0.408   0.160   0.000   0.000   0.000   \n",
       "1152   0.000   0.001   0.010   0.006   0.397   0.000   0.000   0.000   0.000   \n",
       "1781   0.000   0.086   0.000   0.017   0.379   0.000   0.000   0.000   0.000   \n",
       "1188   0.012   0.000   0.000   0.000   0.368   0.007   0.055   0.004   0.009   \n",
       "715    0.000   0.000   0.000   0.000   0.357   0.000   0.000   0.000   0.000   \n",
       "1718   0.000   0.000   0.000   0.011   0.355   0.000   0.000   0.000   0.000   \n",
       "1245   0.000   0.000   0.000   0.000   0.350   0.000   0.000   0.000   0.000   \n",
       "1653   0.000   0.008   0.000   0.000   0.314   0.000   0.000   0.002   0.000   \n",
       "547    0.000   0.000   0.000   0.000   0.302   0.000   0.000   0.000   0.000   \n",
       "1749   0.000   0.000   0.055   0.000   0.300   0.000   0.000   0.000   0.121   \n",
       "337    0.001   0.001   0.000   0.068   0.268   0.036   0.002   0.000   0.018   \n",
       "864    0.000   0.000   0.000   0.000   0.256   0.000   0.000   0.000   0.000   \n",
       "1622   0.005   0.000   0.001   0.001   0.249   0.014   0.000   0.000   0.000   \n",
       "1973   0.000   0.000   0.000   0.000   0.237   0.000   0.000   0.000   0.000   \n",
       "976    0.026   0.008   0.000   0.000   0.234   0.000   0.007   0.000   0.000   \n",
       "2478   0.038   0.000   0.002   0.000   0.214   0.000   0.000   0.000   0.013   \n",
       "2284   0.000   0.000   0.000   0.000   0.209   0.000   0.016   0.000   0.016   \n",
       "270    0.028   0.013   0.000   0.000   0.206   0.000   0.000   0.010   0.011   \n",
       "\n",
       "      topic10                          Song                        Artist  \n",
       "1460    0.000             Boys Will Be Boys             The Ordinary Boys  \n",
       "1309    0.000        See It In A Boy's Eyes                       Jamelia  \n",
       "1138    0.000                      Down Boy                 Holly Valance  \n",
       "1152    0.000                      Hey Baby                      No Doubt  \n",
       "1781    0.000                      Rude Boy                       Rihanna  \n",
       "1188    0.000              Hole In The Head                     Sugababes  \n",
       "715     0.000               The Boy Is Mine               Brandy & Monica  \n",
       "1718    0.000                      BAD BOYS   ALEXANDRA BURKE FT FLO RIDA  \n",
       "1245    0.000                    Call On Me                    Eric Prydz  \n",
       "1653    0.082                  Pumpkin Soup                     Kate Nash  \n",
       "547     0.000                   Born Slippy                    Underworld  \n",
       "1749    0.000                  BOYS & GIRLS                    PIXIE LOTT  \n",
       "337     0.000               Don't Walk Away                          Jade  \n",
       "864     0.000              Hey Boy Hey Girl         The Chemical Brothers  \n",
       "1622    0.000                  American Boy  Estelle featuring Kanye West  \n",
       "1973    0.000                     Bangarang             Skrillex Ft Sirah  \n",
       "976     0.018  Can't Get You Out Of My Head                 Kylie Minogue  \n",
       "2478    0.000                         Idgaf                      Dua Lipa  \n",
       "2284    0.000                 All Cried Out         Blonde Ft Alex Newell  \n",
       "270     0.000            All That She Wants                   Ace Of Base  "
      ],
      "text/html": "<div>\n<style scoped>\n    .dataframe tbody tr th:only-of-type {\n        vertical-align: middle;\n    }\n\n    .dataframe tbody tr th {\n        vertical-align: top;\n    }\n\n    .dataframe thead th {\n        text-align: right;\n    }\n</style>\n<table border=\"1\" class=\"dataframe\">\n  <thead>\n    <tr style=\"text-align: right;\">\n      <th></th>\n      <th>topic1</th>\n      <th>topic2</th>\n      <th>topic3</th>\n      <th>topic4</th>\n      <th>topic5</th>\n      <th>topic6</th>\n      <th>topic7</th>\n      <th>topic8</th>\n      <th>topic9</th>\n      <th>topic10</th>\n      <th>Song</th>\n      <th>Artist</th>\n    </tr>\n  </thead>\n  <tbody>\n    <tr>\n      <th>1460</th>\n      <td>0.000</td>\n      <td>0.000</td>\n      <td>0.000</td>\n      <td>0.000</td>\n      <td>0.482</td>\n      <td>0.000</td>\n      <td>0.000</td>\n      <td>0.000</td>\n      <td>0.000</td>\n      <td>0.000</td>\n      <td>Boys Will Be Boys</td>\n      <td>The Ordinary Boys</td>\n    </tr>\n    <tr>\n      <th>1309</th>\n      <td>0.000</td>\n      <td>0.000</td>\n      <td>0.000</td>\n      <td>0.024</td>\n      <td>0.413</td>\n      <td>0.000</td>\n      <td>0.000</td>\n      <td>0.000</td>\n      <td>0.049</td>\n      <td>0.000</td>\n      <td>See It In A Boy's Eyes</td>\n      <td>Jamelia</td>\n    </tr>\n    <tr>\n      <th>1138</th>\n      <td>0.000</td>\n      <td>0.000</td>\n      <td>0.000</td>\n      <td>0.000</td>\n      <td>0.408</td>\n      <td>0.160</td>\n      <td>0.000</td>\n      <td>0.000</td>\n      <td>0.000</td>\n      <td>0.000</td>\n      <td>Down Boy</td>\n      <td>Holly Valance</td>\n    </tr>\n    <tr>\n      <th>1152</th>\n      <td>0.000</td>\n      <td>0.001</td>\n      <td>0.010</td>\n      <td>0.006</td>\n      <td>0.397</td>\n      <td>0.000</td>\n      <td>0.000</td>\n      <td>0.000</td>\n      <td>0.000</td>\n      <td>0.000</td>\n      <td>Hey Baby</td>\n      <td>No Doubt</td>\n    </tr>\n    <tr>\n      <th>1781</th>\n      <td>0.000</td>\n      <td>0.086</td>\n      <td>0.000</td>\n      <td>0.017</td>\n      <td>0.379</td>\n      <td>0.000</td>\n      <td>0.000</td>\n      <td>0.000</td>\n      <td>0.000</td>\n      <td>0.000</td>\n      <td>Rude Boy</td>\n      <td>Rihanna</td>\n    </tr>\n    <tr>\n      <th>1188</th>\n      <td>0.012</td>\n      <td>0.000</td>\n      <td>0.000</td>\n      <td>0.000</td>\n      <td>0.368</td>\n      <td>0.007</td>\n      <td>0.055</td>\n      <td>0.004</td>\n      <td>0.009</td>\n      <td>0.000</td>\n      <td>Hole In The Head</td>\n      <td>Sugababes</td>\n    </tr>\n    <tr>\n      <th>715</th>\n      <td>0.000</td>\n      <td>0.000</td>\n      <td>0.000</td>\n      <td>0.000</td>\n      <td>0.357</td>\n      <td>0.000</td>\n      <td>0.000</td>\n      <td>0.000</td>\n      <td>0.000</td>\n      <td>0.000</td>\n      <td>The Boy Is Mine</td>\n      <td>Brandy &amp; Monica</td>\n    </tr>\n    <tr>\n      <th>1718</th>\n      <td>0.000</td>\n      <td>0.000</td>\n      <td>0.000</td>\n      <td>0.011</td>\n      <td>0.355</td>\n      <td>0.000</td>\n      <td>0.000</td>\n      <td>0.000</td>\n      <td>0.000</td>\n      <td>0.000</td>\n      <td>BAD BOYS</td>\n      <td>ALEXANDRA BURKE FT FLO RIDA</td>\n    </tr>\n    <tr>\n      <th>1245</th>\n      <td>0.000</td>\n      <td>0.000</td>\n      <td>0.000</td>\n      <td>0.000</td>\n      <td>0.350</td>\n      <td>0.000</td>\n      <td>0.000</td>\n      <td>0.000</td>\n      <td>0.000</td>\n      <td>0.000</td>\n      <td>Call On Me</td>\n      <td>Eric Prydz</td>\n    </tr>\n    <tr>\n      <th>1653</th>\n      <td>0.000</td>\n      <td>0.008</td>\n      <td>0.000</td>\n      <td>0.000</td>\n      <td>0.314</td>\n      <td>0.000</td>\n      <td>0.000</td>\n      <td>0.002</td>\n      <td>0.000</td>\n      <td>0.082</td>\n      <td>Pumpkin Soup</td>\n      <td>Kate Nash</td>\n    </tr>\n    <tr>\n      <th>547</th>\n      <td>0.000</td>\n      <td>0.000</td>\n      <td>0.000</td>\n      <td>0.000</td>\n      <td>0.302</td>\n      <td>0.000</td>\n      <td>0.000</td>\n      <td>0.000</td>\n      <td>0.000</td>\n      <td>0.000</td>\n      <td>Born Slippy</td>\n      <td>Underworld</td>\n    </tr>\n    <tr>\n      <th>1749</th>\n      <td>0.000</td>\n      <td>0.000</td>\n      <td>0.055</td>\n      <td>0.000</td>\n      <td>0.300</td>\n      <td>0.000</td>\n      <td>0.000</td>\n      <td>0.000</td>\n      <td>0.121</td>\n      <td>0.000</td>\n      <td>BOYS &amp; GIRLS</td>\n      <td>PIXIE LOTT</td>\n    </tr>\n    <tr>\n      <th>337</th>\n      <td>0.001</td>\n      <td>0.001</td>\n      <td>0.000</td>\n      <td>0.068</td>\n      <td>0.268</td>\n      <td>0.036</td>\n      <td>0.002</td>\n      <td>0.000</td>\n      <td>0.018</td>\n      <td>0.000</td>\n      <td>Don't Walk Away</td>\n      <td>Jade</td>\n    </tr>\n    <tr>\n      <th>864</th>\n      <td>0.000</td>\n      <td>0.000</td>\n      <td>0.000</td>\n      <td>0.000</td>\n      <td>0.256</td>\n      <td>0.000</td>\n      <td>0.000</td>\n      <td>0.000</td>\n      <td>0.000</td>\n      <td>0.000</td>\n      <td>Hey Boy Hey Girl</td>\n      <td>The Chemical Brothers</td>\n    </tr>\n    <tr>\n      <th>1622</th>\n      <td>0.005</td>\n      <td>0.000</td>\n      <td>0.001</td>\n      <td>0.001</td>\n      <td>0.249</td>\n      <td>0.014</td>\n      <td>0.000</td>\n      <td>0.000</td>\n      <td>0.000</td>\n      <td>0.000</td>\n      <td>American Boy</td>\n      <td>Estelle featuring Kanye West</td>\n    </tr>\n    <tr>\n      <th>1973</th>\n      <td>0.000</td>\n      <td>0.000</td>\n      <td>0.000</td>\n      <td>0.000</td>\n      <td>0.237</td>\n      <td>0.000</td>\n      <td>0.000</td>\n      <td>0.000</td>\n      <td>0.000</td>\n      <td>0.000</td>\n      <td>Bangarang</td>\n      <td>Skrillex Ft Sirah</td>\n    </tr>\n    <tr>\n      <th>976</th>\n      <td>0.026</td>\n      <td>0.008</td>\n      <td>0.000</td>\n      <td>0.000</td>\n      <td>0.234</td>\n      <td>0.000</td>\n      <td>0.007</td>\n      <td>0.000</td>\n      <td>0.000</td>\n      <td>0.018</td>\n      <td>Can't Get You Out Of My Head</td>\n      <td>Kylie Minogue</td>\n    </tr>\n    <tr>\n      <th>2478</th>\n      <td>0.038</td>\n      <td>0.000</td>\n      <td>0.002</td>\n      <td>0.000</td>\n      <td>0.214</td>\n      <td>0.000</td>\n      <td>0.000</td>\n      <td>0.000</td>\n      <td>0.013</td>\n      <td>0.000</td>\n      <td>Idgaf</td>\n      <td>Dua Lipa</td>\n    </tr>\n    <tr>\n      <th>2284</th>\n      <td>0.000</td>\n      <td>0.000</td>\n      <td>0.000</td>\n      <td>0.000</td>\n      <td>0.209</td>\n      <td>0.000</td>\n      <td>0.016</td>\n      <td>0.000</td>\n      <td>0.016</td>\n      <td>0.000</td>\n      <td>All Cried Out</td>\n      <td>Blonde Ft Alex Newell</td>\n    </tr>\n    <tr>\n      <th>270</th>\n      <td>0.028</td>\n      <td>0.013</td>\n      <td>0.000</td>\n      <td>0.000</td>\n      <td>0.206</td>\n      <td>0.000</td>\n      <td>0.000</td>\n      <td>0.010</td>\n      <td>0.011</td>\n      <td>0.000</td>\n      <td>All That She Wants</td>\n      <td>Ace Of Base</td>\n    </tr>\n  </tbody>\n</table>\n</div>"
     },
     "metadata": {},
     "execution_count": 17
    }
   ],
   "source": [
    "doc_topic_mat.sort_values('topic5',ascending=False).head(20)"
   ]
  },
  {
   "cell_type": "code",
   "execution_count": 101,
   "metadata": {},
   "outputs": [],
   "source": [
    "# topic_word = pd.DataFrame(\n",
    "#     nmf_model.components_.round(3),\n",
    "#     columns = tfidf.get_feature_names()\n",
    "#     )\n",
    "# topic_word"
   ]
  }
 ]
}