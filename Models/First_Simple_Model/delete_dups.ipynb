{
 "metadata": {
  "language_info": {
   "codemirror_mode": {
    "name": "ipython",
    "version": 3
   },
   "file_extension": ".py",
   "mimetype": "text/x-python",
   "name": "python",
   "nbconvert_exporter": "python",
   "pygments_lexer": "ipython3",
   "version": "3.8.3-final"
  },
  "orig_nbformat": 2,
  "kernelspec": {
   "name": "python3",
   "display_name": "Python 3"
  }
 },
 "nbformat": 4,
 "nbformat_minor": 2,
 "cells": [
  {
   "source": [
    "## Purpose\n",
    "Purpose of this model is to see how many songs in us_pops exist in uk_pops.\n",
    "In other words, how many songs are on both us top 100 and uk top 100?"
   ],
   "cell_type": "markdown",
   "metadata": {}
  },
  {
   "cell_type": "code",
   "execution_count": 1,
   "metadata": {},
   "outputs": [],
   "source": [
    "import pickle\n",
    "import pandas as pd"
   ]
  },
  {
   "cell_type": "code",
   "execution_count": 2,
   "metadata": {},
   "outputs": [],
   "source": [
    "file = open('../../Webscraper/us_pops_raw', 'rb')\n",
    "us_pops = pickle.load(file)\n",
    "us_pops.dropna(inplace=True)\n",
    "us_pops = us_pops['Lyrics']\n",
    "\n",
    "file = open('../../Webscraper/uk_pops_raw', 'rb')\n",
    "uk_pops = pickle.load(file)\n",
    "uk_pops.dropna(inplace=True)\n",
    "uk_pops = uk_pops['Lyrics']\n",
    "\n",
    "combined = pd.concat([us_pops,uk_pops],ignore_index='True')"
   ]
  },
  {
   "cell_type": "code",
   "execution_count": null,
   "metadata": {},
   "outputs": [],
   "source": []
  },
  {
   "cell_type": "code",
   "execution_count": 3,
   "metadata": {},
   "outputs": [
    {
     "output_type": "execute_result",
     "data": {
      "text/plain": [
       "0       I know this pain (I know this pain)\\nWhy do yo...\n",
       "1       Lay a whisper on my pillow\\nLeave the winter o...\n",
       "2       It's been seven hours and fifteen days\\nSince ...\n",
       "3       Yeah, Spyderman and Freeze in full effect\\nUh-...\n",
       "4       Strike a pose\\nStrike a pose\\nVogue (vogue, vo...\n",
       "                              ...                        \n",
       "5307    Te prometo que nunca encontrarás a alguien igu...\n",
       "5308    Baby when it comes to love, it should be mutua...\n",
       "5309    Searchin' every corner of my mind\\nLookin' for...\n",
       "5310    Ik bel je één keer, twee keer‚ drie keer\\nIk  ...\n",
       "5311    All my life I've been a good girl\\nTryna do wh...\n",
       "Name: Lyrics, Length: 5312, dtype: object"
      ]
     },
     "metadata": {},
     "execution_count": 3
    }
   ],
   "source": [
    "combined"
   ]
  },
  {
   "cell_type": "code",
   "execution_count": 4,
   "metadata": {},
   "outputs": [
    {
     "output_type": "execute_result",
     "data": {
      "text/plain": [
       "1964     \\nWe didn't care if people stared\\nWe'd make ...\n",
       "2093              \\n            Lyrics for this song h...\n",
       "1425     + (Baby Bash)\\nOooh... Yeah\\nAnd anything tha...\n",
       "1266     + (Neef)\\nSix figure, woo\\nUh, Youngunaz (You...\n",
       "1351     + (Nick Cannon)\\nOh, oh, oh, oh, oh (Oh, uh, ...\n",
       "                              ...                        \n",
       "1785    “Cause I ain't going out like a sucka, no way”...\n",
       "5007    “So, what would you little maniacs like to do ...\n",
       "1442    •\"#Freetag\" by Kidd Keo\\n•\"1, 2, 3\" by Sofia R...\n",
       "3721                                                    ♫\n",
       "4754    알랑가몰라 왜 화끈해야 하는건지\\n알랑가몰라 왜 말끔해야 하는건지\\n알랑가몰라 아리...\n",
       "Name: Lyrics, Length: 4424, dtype: object"
      ]
     },
     "metadata": {},
     "execution_count": 4
    }
   ],
   "source": [
    "combined_join = combined.drop_duplicates()\n",
    "combined_join.sort_values()"
   ]
  },
  {
   "source": [
    "## Conclusion\n",
    "US_Pops has 2671 unique, non-nan songs in our df\n",
    "UK_Pops has 2641 unique, non-nan songs in our df\n",
    "888 songs show up in both charts\n",
    "1783 songs show up only in US_Pops\n",
    "1753 songs show up only in UK_Pops"
   ],
   "cell_type": "markdown",
   "metadata": {}
  }
 ]
}