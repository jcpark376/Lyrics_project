{
 "metadata": {
  "language_info": {
   "codemirror_mode": {
    "name": "ipython",
    "version": 3
   },
   "file_extension": ".py",
   "mimetype": "text/x-python",
   "name": "python",
   "nbconvert_exporter": "python",
   "pygments_lexer": "ipython3",
   "version": "3.8.3-final"
  },
  "orig_nbformat": 2,
  "kernelspec": {
   "name": "Python 3.8.3 64-bit ('base': conda)",
   "display_name": "Python 3.8.3 64-bit ('base': conda)",
   "metadata": {
    "interpreter": {
     "hash": "a37621db6f99f75e4d2a47a248a6a71709dd01999a0a2eb01144ce85e79d4af1"
    }
   }
  }
 },
 "nbformat": 4,
 "nbformat_minor": 2,
 "cells": [
  {
   "source": [
    "### Purpose\n",
    "The purpose of this notebook is to fill in the NaNs that wer obtained from initial scraping. They're mostly due to slight typos and incongruencies in spelling\n",
    "\n",
    "# This notebook is still a work-in-progress, and results from this notebook has not been used in the presentation (Nov 13, 2020)"
   ],
   "cell_type": "markdown",
   "metadata": {}
  },
  {
   "cell_type": "code",
   "execution_count": 28,
   "metadata": {},
   "outputs": [],
   "source": [
    "from bs4 import BeautifulSoup\n",
    "import requests\n",
    "import pandas as pd\n",
    "import lyricsgenius\n",
    "import pickle\n",
    "genius = lyricsgenius.Genius(\"41z411tnPlBcKcTj1tsewXPVS72_XhicyVLelIdCOf0BQLBxpEO8YygDX-pa1HR5\")\n",
    "\n",
    "# This cell configures the API into getting lyrics in more amenable format. Include remix and live this time\n",
    "genius.verbose = False\n",
    "genius.remove_section_headers = True"
   ]
  },
  {
   "cell_type": "code",
   "execution_count": null,
   "metadata": {},
   "outputs": [],
   "source": []
  },
  {
   "source": [
    "### First, do it for uk_pops"
   ],
   "cell_type": "markdown",
   "metadata": {}
  },
  {
   "cell_type": "code",
   "execution_count": 29,
   "metadata": {},
   "outputs": [],
   "source": [
    "file = open('uk_pops_raw', 'rb')\n",
    "uk_pops = pickle.load(file)"
   ]
  },
  {
   "cell_type": "code",
   "execution_count": 30,
   "metadata": {},
   "outputs": [],
   "source": [
    "# get rows that failed to get lyrics from Genius, and create new df\n",
    "nan_rows = uk_pops[pd.isnull(uk_pops['Lyrics'])].index\n",
    "nan_df_uk = uk_pops.iloc[nan_rows]"
   ]
  },
  {
   "source": [
    "def remove_ft(string):\n",
    "    artist_list = string.split(' ')\n",
    "    feat_words = [' Ft ',' ft ',' Featuring ',' featuring ',' Feat ',' feat ',' X ',' x ',' & ',' , ']\n",
    "    if feat_words not in artist_list:\n",
    "        return string\n",
    "    else:\n",
    "        for i in range(len(artist_list)):\n",
    "            if artist_list[i] in feat_words:\n",
    "                return ' '.join(artist_list[:i+1])\n",
    "\n",
    "# def remove_paran(string):"
   ],
   "cell_type": "code",
   "metadata": {},
   "execution_count": 44,
   "outputs": []
  },
  {
   "cell_type": "code",
   "execution_count": 45,
   "metadata": {},
   "outputs": [
    {
     "output_type": "execute_result",
     "data": {
      "text/plain": [
       "'Technotronic featuring Ya Kid K'"
      ]
     },
     "metadata": {},
     "execution_count": 45
    }
   ],
   "source": [
    "remove_ft('Technotronic featuring Ya Kid K')"
   ]
  },
  {
   "cell_type": "code",
   "execution_count": 33,
   "metadata": {},
   "outputs": [
    {
     "output_type": "execute_result",
     "data": {
      "text/plain": [
       "                                             Artist  \\\n",
       "10                                  Englandneworder   \n",
       "11                                      Bombalurina   \n",
       "17                                        The B-52s   \n",
       "23                  Technotronic featuring Ya Kid K   \n",
       "26                      Craig McLachlan & Check 1-2   \n",
       "...                                             ...   \n",
       "2623                            Maroon 5 Ft Cardi B   \n",
       "2672                            BlocBoy JB Ft Drake   \n",
       "2673                           Bruno Mars & Cardi B   \n",
       "2755  Wiley, Stefflon Don & Sean Paul Ft Idris Elba   \n",
       "2789                    Little Mix Ft Ty Dolla $ign   \n",
       "\n",
       "                                                Song Lyrics  \\\n",
       "10                                   World In Motion    NaN   \n",
       "11    Itsy Bitsy Teeny Weeny Yellow Polka Dot Bikini    NaN   \n",
       "17                                        Love Shack    NaN   \n",
       "23                 Get Up (Before The Night Is Over)    NaN   \n",
       "26                                              Mona    NaN   \n",
       "...                                              ...    ...   \n",
       "2623                                  Girls Like You    NaN   \n",
       "2672                                      Look Alive    NaN   \n",
       "2673                                         Finesse    NaN   \n",
       "2755                                          Boasty    NaN   \n",
       "2789                                  Think About Us    NaN   \n",
       "\n",
       "                                         alt_artist  \\\n",
       "10                                  Englandneworder   \n",
       "11                                      Bombalurina   \n",
       "17                                        The B-52s   \n",
       "23                  Technotronic featuring Ya Kid K   \n",
       "26                      Craig McLachlan & Check 1-2   \n",
       "...                                             ...   \n",
       "2623                            Maroon 5 Ft Cardi B   \n",
       "2672                            BlocBoy JB Ft Drake   \n",
       "2673                           Bruno Mars & Cardi B   \n",
       "2755  Wiley, Stefflon Don & Sean Paul Ft Idris Elba   \n",
       "2789                    Little Mix Ft Ty Dolla $ign   \n",
       "\n",
       "                                            alt_song  \n",
       "10                                   World In Motion  \n",
       "11    Itsy Bitsy Teeny Weeny Yellow Polka Dot Bikini  \n",
       "17                                        Love Shack  \n",
       "23                 Get Up (Before The Night Is Over)  \n",
       "26                                              Mona  \n",
       "...                                              ...  \n",
       "2623                                  Girls Like You  \n",
       "2672                                      Look Alive  \n",
       "2673                                         Finesse  \n",
       "2755                                          Boasty  \n",
       "2789                                  Think About Us  \n",
       "\n",
       "[157 rows x 5 columns]"
      ],
      "text/html": "<div>\n<style scoped>\n    .dataframe tbody tr th:only-of-type {\n        vertical-align: middle;\n    }\n\n    .dataframe tbody tr th {\n        vertical-align: top;\n    }\n\n    .dataframe thead th {\n        text-align: right;\n    }\n</style>\n<table border=\"1\" class=\"dataframe\">\n  <thead>\n    <tr style=\"text-align: right;\">\n      <th></th>\n      <th>Artist</th>\n      <th>Song</th>\n      <th>Lyrics</th>\n      <th>alt_artist</th>\n      <th>alt_song</th>\n    </tr>\n  </thead>\n  <tbody>\n    <tr>\n      <th>10</th>\n      <td>Englandneworder</td>\n      <td>World In Motion</td>\n      <td>NaN</td>\n      <td>Englandneworder</td>\n      <td>World In Motion</td>\n    </tr>\n    <tr>\n      <th>11</th>\n      <td>Bombalurina</td>\n      <td>Itsy Bitsy Teeny Weeny Yellow Polka Dot Bikini</td>\n      <td>NaN</td>\n      <td>Bombalurina</td>\n      <td>Itsy Bitsy Teeny Weeny Yellow Polka Dot Bikini</td>\n    </tr>\n    <tr>\n      <th>17</th>\n      <td>The B-52s</td>\n      <td>Love Shack</td>\n      <td>NaN</td>\n      <td>The B-52s</td>\n      <td>Love Shack</td>\n    </tr>\n    <tr>\n      <th>23</th>\n      <td>Technotronic featuring Ya Kid K</td>\n      <td>Get Up (Before The Night Is Over)</td>\n      <td>NaN</td>\n      <td>Technotronic featuring Ya Kid K</td>\n      <td>Get Up (Before The Night Is Over)</td>\n    </tr>\n    <tr>\n      <th>26</th>\n      <td>Craig McLachlan &amp; Check 1-2</td>\n      <td>Mona</td>\n      <td>NaN</td>\n      <td>Craig McLachlan &amp; Check 1-2</td>\n      <td>Mona</td>\n    </tr>\n    <tr>\n      <th>...</th>\n      <td>...</td>\n      <td>...</td>\n      <td>...</td>\n      <td>...</td>\n      <td>...</td>\n    </tr>\n    <tr>\n      <th>2623</th>\n      <td>Maroon 5 Ft Cardi B</td>\n      <td>Girls Like You</td>\n      <td>NaN</td>\n      <td>Maroon 5 Ft Cardi B</td>\n      <td>Girls Like You</td>\n    </tr>\n    <tr>\n      <th>2672</th>\n      <td>BlocBoy JB Ft Drake</td>\n      <td>Look Alive</td>\n      <td>NaN</td>\n      <td>BlocBoy JB Ft Drake</td>\n      <td>Look Alive</td>\n    </tr>\n    <tr>\n      <th>2673</th>\n      <td>Bruno Mars &amp; Cardi B</td>\n      <td>Finesse</td>\n      <td>NaN</td>\n      <td>Bruno Mars &amp; Cardi B</td>\n      <td>Finesse</td>\n    </tr>\n    <tr>\n      <th>2755</th>\n      <td>Wiley, Stefflon Don &amp; Sean Paul Ft Idris Elba</td>\n      <td>Boasty</td>\n      <td>NaN</td>\n      <td>Wiley, Stefflon Don &amp; Sean Paul Ft Idris Elba</td>\n      <td>Boasty</td>\n    </tr>\n    <tr>\n      <th>2789</th>\n      <td>Little Mix Ft Ty Dolla $ign</td>\n      <td>Think About Us</td>\n      <td>NaN</td>\n      <td>Little Mix Ft Ty Dolla $ign</td>\n      <td>Think About Us</td>\n    </tr>\n  </tbody>\n</table>\n<p>157 rows × 5 columns</p>\n</div>"
     },
     "metadata": {},
     "execution_count": 33
    }
   ],
   "source": [
    "nan_df_uk"
   ]
  },
  {
   "cell_type": "code",
   "execution_count": 34,
   "metadata": {},
   "outputs": [],
   "source": [
    "# # Save as csv to edit manually. alt_artist and alt_song is changed to something that makes more sense\n",
    "# nan_df_uk.to_csv(r'nan_df_uk.csv')"
   ]
  },
  {
   "cell_type": "code",
   "execution_count": 35,
   "metadata": {},
   "outputs": [],
   "source": [
    "# Pull back csv into new dataframe\n",
    "nan_df_uk_alt = pd.read_csv('nan_df_uk.csv', index_col=0)"
   ]
  },
  {
   "cell_type": "code",
   "execution_count": 36,
   "metadata": {},
   "outputs": [
    {
     "output_type": "execute_result",
     "data": {
      "text/plain": [
       "                                               Artist  \\\n",
       "10                                    Englandneworder   \n",
       "11                                        Bombalurina   \n",
       "17                                          The B-52s   \n",
       "23                    Technotronic featuring Ya Kid K   \n",
       "26                        Craig McLachlan & Check 1-2   \n",
       "35                                        Deacon Blue   \n",
       "36                                     Michael Bolton   \n",
       "44   The KLF featuring The Children Of The Revolution   \n",
       "49             David A Stewart featuring Candy Dulfer   \n",
       "64                                Gazza & Lindisfarne   \n",
       "66           Twenty4Seven featuring Captain Hollywood   \n",
       "78                            FAB featuring MC Parker   \n",
       "98                      Rob 'N' Raz featuring Leila K   \n",
       "119                  Nomad featuring MC Mikee Freedom   \n",
       "123  The KLF featuring The Children Of The Revolution   \n",
       "134                                    Kiri Te Kanawa   \n",
       "143      C&C Music Factory featuring Freedom Williams   \n",
       "158                     Quartz featuring Dina Carroll   \n",
       "172                   Soft Cell featuring Marc Almond   \n",
       "175                                         Xpansions   \n",
       "\n",
       "                                               Song  Lyrics  \\\n",
       "10                                  World In Motion     NaN   \n",
       "11   Itsy Bitsy Teeny Weeny Yellow Polka Dot Bikini     NaN   \n",
       "17                                       Love Shack     NaN   \n",
       "23                Get Up (Before The Night Is Over)     NaN   \n",
       "26                                             Mona     NaN   \n",
       "35              Four Bacharach And David Songs (EP)     NaN   \n",
       "36            How Am I Supposed To Live Without You     NaN   \n",
       "44                               What Time Is Love?     NaN   \n",
       "49                                    Lily Was Here     NaN   \n",
       "64                      Fog On The Tyne (Revisited)     NaN   \n",
       "66                                 I Can't Stand It     NaN   \n",
       "78                              Thunderbirds Are Go     NaN   \n",
       "98                                       Got To Get     NaN   \n",
       "119                     (I Wanna Give You) Devotion     NaN   \n",
       "123                       Last Train To Trancentral     NaN   \n",
       "134                                  World In Union     NaN   \n",
       "143                 Things That Make You Go Hmmm...     NaN   \n",
       "158                                   It's Too Late     NaN   \n",
       "172                                    Tainted Love     NaN   \n",
       "175                      Move Your Body (Elevation)     NaN   \n",
       "\n",
       "             alt_artist                                          alt_song  \n",
       "10            New Order                                   World In Motion  \n",
       "11          Bombalurina  Itsy Bitsy Teenie Weenie Yellow Polka Dot Bikini  \n",
       "17             The B-52                                        Love Shack  \n",
       "23         Technotronic                 Get Up (Before The Night Is Over)  \n",
       "26      Craig McLachlan                                              Mona  \n",
       "35          Deacon Blue                                         Bacharach  \n",
       "36       Michael Bolton             How Am I Supposed To Live Without You  \n",
       "44             The KLF                                 What Time Is Love?  \n",
       "49        David Stewart                                     Lily Was Here  \n",
       "64                Gazza                                   Fog On The Tyne  \n",
       "66                  NaN                                  I Can't Stand It  \n",
       "78                 FAB                                Thunderbirds Are Go  \n",
       "98              Rob Raz                                        Got To Get  \n",
       "119              Nomad                        (I Wanna Give You) Devotion  \n",
       "123            The KLF                          Last Train To Trancentral  \n",
       "134      Kiri Te Kanawa                                    World In Union  \n",
       "143  C&C Music Factory                    Things That Make You Go Hmmm...  \n",
       "158             Quartz                                      It's Too Late  \n",
       "172          Soft Cell                                       Tainted Love  \n",
       "175           Xpansions                                    Move Your Body  "
      ],
      "text/html": "<div>\n<style scoped>\n    .dataframe tbody tr th:only-of-type {\n        vertical-align: middle;\n    }\n\n    .dataframe tbody tr th {\n        vertical-align: top;\n    }\n\n    .dataframe thead th {\n        text-align: right;\n    }\n</style>\n<table border=\"1\" class=\"dataframe\">\n  <thead>\n    <tr style=\"text-align: right;\">\n      <th></th>\n      <th>Artist</th>\n      <th>Song</th>\n      <th>Lyrics</th>\n      <th>alt_artist</th>\n      <th>alt_song</th>\n    </tr>\n  </thead>\n  <tbody>\n    <tr>\n      <th>10</th>\n      <td>Englandneworder</td>\n      <td>World In Motion</td>\n      <td>NaN</td>\n      <td>New Order</td>\n      <td>World In Motion</td>\n    </tr>\n    <tr>\n      <th>11</th>\n      <td>Bombalurina</td>\n      <td>Itsy Bitsy Teeny Weeny Yellow Polka Dot Bikini</td>\n      <td>NaN</td>\n      <td>Bombalurina</td>\n      <td>Itsy Bitsy Teenie Weenie Yellow Polka Dot Bikini</td>\n    </tr>\n    <tr>\n      <th>17</th>\n      <td>The B-52s</td>\n      <td>Love Shack</td>\n      <td>NaN</td>\n      <td>The B-52</td>\n      <td>Love Shack</td>\n    </tr>\n    <tr>\n      <th>23</th>\n      <td>Technotronic featuring Ya Kid K</td>\n      <td>Get Up (Before The Night Is Over)</td>\n      <td>NaN</td>\n      <td>Technotronic</td>\n      <td>Get Up (Before The Night Is Over)</td>\n    </tr>\n    <tr>\n      <th>26</th>\n      <td>Craig McLachlan &amp; Check 1-2</td>\n      <td>Mona</td>\n      <td>NaN</td>\n      <td>Craig McLachlan</td>\n      <td>Mona</td>\n    </tr>\n    <tr>\n      <th>35</th>\n      <td>Deacon Blue</td>\n      <td>Four Bacharach And David Songs (EP)</td>\n      <td>NaN</td>\n      <td>Deacon Blue</td>\n      <td>Bacharach</td>\n    </tr>\n    <tr>\n      <th>36</th>\n      <td>Michael Bolton</td>\n      <td>How Am I Supposed To Live Without You</td>\n      <td>NaN</td>\n      <td>Michael Bolton</td>\n      <td>How Am I Supposed To Live Without You</td>\n    </tr>\n    <tr>\n      <th>44</th>\n      <td>The KLF featuring The Children Of The Revolution</td>\n      <td>What Time Is Love?</td>\n      <td>NaN</td>\n      <td>The KLF</td>\n      <td>What Time Is Love?</td>\n    </tr>\n    <tr>\n      <th>49</th>\n      <td>David A Stewart featuring Candy Dulfer</td>\n      <td>Lily Was Here</td>\n      <td>NaN</td>\n      <td>David Stewart</td>\n      <td>Lily Was Here</td>\n    </tr>\n    <tr>\n      <th>64</th>\n      <td>Gazza &amp; Lindisfarne</td>\n      <td>Fog On The Tyne (Revisited)</td>\n      <td>NaN</td>\n      <td>Gazza</td>\n      <td>Fog On The Tyne</td>\n    </tr>\n    <tr>\n      <th>66</th>\n      <td>Twenty4Seven featuring Captain Hollywood</td>\n      <td>I Can't Stand It</td>\n      <td>NaN</td>\n      <td>NaN</td>\n      <td>I Can't Stand It</td>\n    </tr>\n    <tr>\n      <th>78</th>\n      <td>FAB featuring MC Parker</td>\n      <td>Thunderbirds Are Go</td>\n      <td>NaN</td>\n      <td>FAB</td>\n      <td>Thunderbirds Are Go</td>\n    </tr>\n    <tr>\n      <th>98</th>\n      <td>Rob 'N' Raz featuring Leila K</td>\n      <td>Got To Get</td>\n      <td>NaN</td>\n      <td>Rob Raz</td>\n      <td>Got To Get</td>\n    </tr>\n    <tr>\n      <th>119</th>\n      <td>Nomad featuring MC Mikee Freedom</td>\n      <td>(I Wanna Give You) Devotion</td>\n      <td>NaN</td>\n      <td>Nomad</td>\n      <td>(I Wanna Give You) Devotion</td>\n    </tr>\n    <tr>\n      <th>123</th>\n      <td>The KLF featuring The Children Of The Revolution</td>\n      <td>Last Train To Trancentral</td>\n      <td>NaN</td>\n      <td>The KLF</td>\n      <td>Last Train To Trancentral</td>\n    </tr>\n    <tr>\n      <th>134</th>\n      <td>Kiri Te Kanawa</td>\n      <td>World In Union</td>\n      <td>NaN</td>\n      <td>Kiri Te Kanawa</td>\n      <td>World In Union</td>\n    </tr>\n    <tr>\n      <th>143</th>\n      <td>C&amp;C Music Factory featuring Freedom Williams</td>\n      <td>Things That Make You Go Hmmm...</td>\n      <td>NaN</td>\n      <td>C&amp;C Music Factory</td>\n      <td>Things That Make You Go Hmmm...</td>\n    </tr>\n    <tr>\n      <th>158</th>\n      <td>Quartz featuring Dina Carroll</td>\n      <td>It's Too Late</td>\n      <td>NaN</td>\n      <td>Quartz</td>\n      <td>It's Too Late</td>\n    </tr>\n    <tr>\n      <th>172</th>\n      <td>Soft Cell featuring Marc Almond</td>\n      <td>Tainted Love</td>\n      <td>NaN</td>\n      <td>Soft Cell</td>\n      <td>Tainted Love</td>\n    </tr>\n    <tr>\n      <th>175</th>\n      <td>Xpansions</td>\n      <td>Move Your Body (Elevation)</td>\n      <td>NaN</td>\n      <td>Xpansions</td>\n      <td>Move Your Body</td>\n    </tr>\n  </tbody>\n</table>\n</div>"
     },
     "metadata": {},
     "execution_count": 36
    }
   ],
   "source": [
    "nan_df_uk_alt.head(20)"
   ]
  },
  {
   "source": [
    "# This round will attempt to see if fetching the song just with the title will be accurate.\n",
    "# Will fetch by song title only, and see what artist/title it actually fetched\n",
    "# Manually check all rows for accuracy\n",
    "\n",
    "for i in nan_df_uk_alt.index:\n",
    "    song = genius.search_song(nan_df_uk_alt.loc[i, 'alt_song'],nan_df_uk_alt.loc[i, 'alt_artist'])\n",
    "    try:\n",
    "        nan_df_uk.at[i,'target_artist'] = song.artist \n",
    "        nan_df_uk.at[i,'target_title'] = song.title\n",
    "    except AttributeError: #in case there is no 'song' object\n",
    "        nan_df_uk.at[i,'target_artist'] = 'nothing gotten'\n",
    "        print('passed')\n",
    "        pass\n",
    "    \n",
    "    if i%10 == 0:\n",
    "        print(i)"
   ],
   "cell_type": "code",
   "metadata": {},
   "execution_count": 37,
   "outputs": [
    {
     "output_type": "stream",
     "name": "stdout",
     "text": [
      "10\n",
      "passed\n",
      "passed\n",
      "passed\n",
      "passed\n",
      "passed\n",
      "passed\n",
      "passed\n",
      "290\n",
      "passed\n",
      "passed\n",
      "passed\n",
      "passed\n",
      "passed\n",
      "passed\n",
      "passed\n",
      "570\n",
      "580\n",
      "passed\n",
      "passed\n",
      "590\n",
      "passed\n",
      "passed\n",
      "passed\n",
      "passed\n",
      "passed\n",
      "passed\n",
      "1130\n",
      "1380\n",
      "passed\n",
      "passed\n",
      "passed\n",
      "2110\n",
      "2140\n",
      "2500\n",
      "2610\n"
     ]
    }
   ]
  },
  {
   "cell_type": "code",
   "execution_count": 38,
   "metadata": {},
   "outputs": [
    {
     "output_type": "execute_result",
     "data": {
      "text/plain": [
       "                                               Artist  \\\n",
       "10                                    Englandneworder   \n",
       "11                                        Bombalurina   \n",
       "17                                          The B-52s   \n",
       "23                    Technotronic featuring Ya Kid K   \n",
       "26                        Craig McLachlan & Check 1-2   \n",
       "35                                        Deacon Blue   \n",
       "36                                     Michael Bolton   \n",
       "44   The KLF featuring The Children Of The Revolution   \n",
       "49             David A Stewart featuring Candy Dulfer   \n",
       "64                                Gazza & Lindisfarne   \n",
       "66           Twenty4Seven featuring Captain Hollywood   \n",
       "78                            FAB featuring MC Parker   \n",
       "98                      Rob 'N' Raz featuring Leila K   \n",
       "119                  Nomad featuring MC Mikee Freedom   \n",
       "123  The KLF featuring The Children Of The Revolution   \n",
       "134                                    Kiri Te Kanawa   \n",
       "143      C&C Music Factory featuring Freedom Williams   \n",
       "158                     Quartz featuring Dina Carroll   \n",
       "172                   Soft Cell featuring Marc Almond   \n",
       "175                                         Xpansions   \n",
       "\n",
       "                                               Song Lyrics  \\\n",
       "10                                  World In Motion    NaN   \n",
       "11   Itsy Bitsy Teeny Weeny Yellow Polka Dot Bikini    NaN   \n",
       "17                                       Love Shack    NaN   \n",
       "23                Get Up (Before The Night Is Over)    NaN   \n",
       "26                                             Mona    NaN   \n",
       "35              Four Bacharach And David Songs (EP)    NaN   \n",
       "36            How Am I Supposed To Live Without You    NaN   \n",
       "44                               What Time Is Love?    NaN   \n",
       "49                                    Lily Was Here    NaN   \n",
       "64                      Fog On The Tyne (Revisited)    NaN   \n",
       "66                                 I Can't Stand It    NaN   \n",
       "78                              Thunderbirds Are Go    NaN   \n",
       "98                                       Got To Get    NaN   \n",
       "119                     (I Wanna Give You) Devotion    NaN   \n",
       "123                       Last Train To Trancentral    NaN   \n",
       "134                                  World In Union    NaN   \n",
       "143                 Things That Make You Go Hmmm...    NaN   \n",
       "158                                   It's Too Late    NaN   \n",
       "172                                    Tainted Love    NaN   \n",
       "175                      Move Your Body (Elevation)    NaN   \n",
       "\n",
       "                                           alt_artist  \\\n",
       "10                                    Englandneworder   \n",
       "11                                        Bombalurina   \n",
       "17                                          The B-52s   \n",
       "23                    Technotronic featuring Ya Kid K   \n",
       "26                        Craig McLachlan & Check 1-2   \n",
       "35                                        Deacon Blue   \n",
       "36                                     Michael Bolton   \n",
       "44   The KLF featuring The Children Of The Revolution   \n",
       "49             David A Stewart featuring Candy Dulfer   \n",
       "64                                Gazza & Lindisfarne   \n",
       "66           Twenty4Seven featuring Captain Hollywood   \n",
       "78                            FAB featuring MC Parker   \n",
       "98                      Rob 'N' Raz featuring Leila K   \n",
       "119                  Nomad featuring MC Mikee Freedom   \n",
       "123  The KLF featuring The Children Of The Revolution   \n",
       "134                                    Kiri Te Kanawa   \n",
       "143      C&C Music Factory featuring Freedom Williams   \n",
       "158                     Quartz featuring Dina Carroll   \n",
       "172                   Soft Cell featuring Marc Almond   \n",
       "175                                         Xpansions   \n",
       "\n",
       "                                           alt_song      target_artist  \\\n",
       "10                                  World In Motion          New Order   \n",
       "11   Itsy Bitsy Teeny Weeny Yellow Polka Dot Bikini        Bombalurina   \n",
       "17                                       Love Shack         The B-52's   \n",
       "23                Get Up (Before The Night Is Over)       Technotronic   \n",
       "26                                             Mona    Craig McLachlan   \n",
       "35              Four Bacharach And David Songs (EP)     nothing gotten   \n",
       "36            How Am I Supposed To Live Without You     Michael Bolton   \n",
       "44                               What Time Is Love?            The KLF   \n",
       "49                                    Lily Was Here     nothing gotten   \n",
       "64                      Fog On The Tyne (Revisited)        James Joyce   \n",
       "66                                 I Can't Stand It        BTS (방탄소년단)   \n",
       "78                              Thunderbirds Are Go            Fuzzbox   \n",
       "98                                       Got To Get          Rob’n’Raz   \n",
       "119                     (I Wanna Give You) Devotion        Nomad (Rap)   \n",
       "123                       Last Train To Trancentral            The KLF   \n",
       "134                                  World In Union     nothing gotten   \n",
       "143                 Things That Make You Go Hmmm...  C+C Music Factory   \n",
       "158                                   It's Too Late             Quartz   \n",
       "172                                    Tainted Love          Soft Cell   \n",
       "175                      Move Your Body (Elevation)          Xpansions   \n",
       "\n",
       "                                         target_title  \n",
       "10                                    World In Motion  \n",
       "11   Itsy Bitsy Teenie Weenie Yellow Polka Dot Bikini  \n",
       "17                                         Love Shack  \n",
       "23                 Get Up! (Before the Night is Over)  \n",
       "26                                               Mona  \n",
       "35                                                NaN  \n",
       "36              How Am I Supposed to Live Without You  \n",
       "44                                 What Time Is Love?  \n",
       "49                                                NaN  \n",
       "64                         Ulysses (Chap. 15 - Circe)  \n",
       "66      흔한 연습생의 크리스마스 (A Typical Trainee’s Christmas)  \n",
       "78                               International rescue  \n",
       "98                                         Got to Get  \n",
       "119                       (I Wanna Give You) Devotion  \n",
       "123                         Last Train to Trancentral  \n",
       "134                                               NaN  \n",
       "143                 Things That Make You Go Hmmmm....  \n",
       "158                                     It’s Too Late  \n",
       "172                                      Tainted Love  \n",
       "175                                    Move Your Body  "
      ],
      "text/html": "<div>\n<style scoped>\n    .dataframe tbody tr th:only-of-type {\n        vertical-align: middle;\n    }\n\n    .dataframe tbody tr th {\n        vertical-align: top;\n    }\n\n    .dataframe thead th {\n        text-align: right;\n    }\n</style>\n<table border=\"1\" class=\"dataframe\">\n  <thead>\n    <tr style=\"text-align: right;\">\n      <th></th>\n      <th>Artist</th>\n      <th>Song</th>\n      <th>Lyrics</th>\n      <th>alt_artist</th>\n      <th>alt_song</th>\n      <th>target_artist</th>\n      <th>target_title</th>\n    </tr>\n  </thead>\n  <tbody>\n    <tr>\n      <th>10</th>\n      <td>Englandneworder</td>\n      <td>World In Motion</td>\n      <td>NaN</td>\n      <td>Englandneworder</td>\n      <td>World In Motion</td>\n      <td>New Order</td>\n      <td>World In Motion</td>\n    </tr>\n    <tr>\n      <th>11</th>\n      <td>Bombalurina</td>\n      <td>Itsy Bitsy Teeny Weeny Yellow Polka Dot Bikini</td>\n      <td>NaN</td>\n      <td>Bombalurina</td>\n      <td>Itsy Bitsy Teeny Weeny Yellow Polka Dot Bikini</td>\n      <td>Bombalurina</td>\n      <td>Itsy Bitsy Teenie Weenie Yellow Polka Dot Bikini</td>\n    </tr>\n    <tr>\n      <th>17</th>\n      <td>The B-52s</td>\n      <td>Love Shack</td>\n      <td>NaN</td>\n      <td>The B-52s</td>\n      <td>Love Shack</td>\n      <td>The B-52's</td>\n      <td>Love Shack</td>\n    </tr>\n    <tr>\n      <th>23</th>\n      <td>Technotronic featuring Ya Kid K</td>\n      <td>Get Up (Before The Night Is Over)</td>\n      <td>NaN</td>\n      <td>Technotronic featuring Ya Kid K</td>\n      <td>Get Up (Before The Night Is Over)</td>\n      <td>Technotronic</td>\n      <td>Get Up! (Before the Night is Over)</td>\n    </tr>\n    <tr>\n      <th>26</th>\n      <td>Craig McLachlan &amp; Check 1-2</td>\n      <td>Mona</td>\n      <td>NaN</td>\n      <td>Craig McLachlan &amp; Check 1-2</td>\n      <td>Mona</td>\n      <td>Craig McLachlan</td>\n      <td>Mona</td>\n    </tr>\n    <tr>\n      <th>35</th>\n      <td>Deacon Blue</td>\n      <td>Four Bacharach And David Songs (EP)</td>\n      <td>NaN</td>\n      <td>Deacon Blue</td>\n      <td>Four Bacharach And David Songs (EP)</td>\n      <td>nothing gotten</td>\n      <td>NaN</td>\n    </tr>\n    <tr>\n      <th>36</th>\n      <td>Michael Bolton</td>\n      <td>How Am I Supposed To Live Without You</td>\n      <td>NaN</td>\n      <td>Michael Bolton</td>\n      <td>How Am I Supposed To Live Without You</td>\n      <td>Michael Bolton</td>\n      <td>How Am I Supposed to Live Without You</td>\n    </tr>\n    <tr>\n      <th>44</th>\n      <td>The KLF featuring The Children Of The Revolution</td>\n      <td>What Time Is Love?</td>\n      <td>NaN</td>\n      <td>The KLF featuring The Children Of The Revolution</td>\n      <td>What Time Is Love?</td>\n      <td>The KLF</td>\n      <td>What Time Is Love?</td>\n    </tr>\n    <tr>\n      <th>49</th>\n      <td>David A Stewart featuring Candy Dulfer</td>\n      <td>Lily Was Here</td>\n      <td>NaN</td>\n      <td>David A Stewart featuring Candy Dulfer</td>\n      <td>Lily Was Here</td>\n      <td>nothing gotten</td>\n      <td>NaN</td>\n    </tr>\n    <tr>\n      <th>64</th>\n      <td>Gazza &amp; Lindisfarne</td>\n      <td>Fog On The Tyne (Revisited)</td>\n      <td>NaN</td>\n      <td>Gazza &amp; Lindisfarne</td>\n      <td>Fog On The Tyne (Revisited)</td>\n      <td>James Joyce</td>\n      <td>Ulysses (Chap. 15 - Circe)</td>\n    </tr>\n    <tr>\n      <th>66</th>\n      <td>Twenty4Seven featuring Captain Hollywood</td>\n      <td>I Can't Stand It</td>\n      <td>NaN</td>\n      <td>Twenty4Seven featuring Captain Hollywood</td>\n      <td>I Can't Stand It</td>\n      <td>BTS (방탄소년단)</td>\n      <td>흔한 연습생의 크리스마스 (A Typical Trainee’s Christmas)</td>\n    </tr>\n    <tr>\n      <th>78</th>\n      <td>FAB featuring MC Parker</td>\n      <td>Thunderbirds Are Go</td>\n      <td>NaN</td>\n      <td>FAB featuring MC Parker</td>\n      <td>Thunderbirds Are Go</td>\n      <td>Fuzzbox</td>\n      <td>International rescue</td>\n    </tr>\n    <tr>\n      <th>98</th>\n      <td>Rob 'N' Raz featuring Leila K</td>\n      <td>Got To Get</td>\n      <td>NaN</td>\n      <td>Rob 'N' Raz featuring Leila K</td>\n      <td>Got To Get</td>\n      <td>Rob’n’Raz</td>\n      <td>Got to Get</td>\n    </tr>\n    <tr>\n      <th>119</th>\n      <td>Nomad featuring MC Mikee Freedom</td>\n      <td>(I Wanna Give You) Devotion</td>\n      <td>NaN</td>\n      <td>Nomad featuring MC Mikee Freedom</td>\n      <td>(I Wanna Give You) Devotion</td>\n      <td>Nomad (Rap)</td>\n      <td>(I Wanna Give You) Devotion</td>\n    </tr>\n    <tr>\n      <th>123</th>\n      <td>The KLF featuring The Children Of The Revolution</td>\n      <td>Last Train To Trancentral</td>\n      <td>NaN</td>\n      <td>The KLF featuring The Children Of The Revolution</td>\n      <td>Last Train To Trancentral</td>\n      <td>The KLF</td>\n      <td>Last Train to Trancentral</td>\n    </tr>\n    <tr>\n      <th>134</th>\n      <td>Kiri Te Kanawa</td>\n      <td>World In Union</td>\n      <td>NaN</td>\n      <td>Kiri Te Kanawa</td>\n      <td>World In Union</td>\n      <td>nothing gotten</td>\n      <td>NaN</td>\n    </tr>\n    <tr>\n      <th>143</th>\n      <td>C&amp;C Music Factory featuring Freedom Williams</td>\n      <td>Things That Make You Go Hmmm...</td>\n      <td>NaN</td>\n      <td>C&amp;C Music Factory featuring Freedom Williams</td>\n      <td>Things That Make You Go Hmmm...</td>\n      <td>C+C Music Factory</td>\n      <td>Things That Make You Go Hmmmm....</td>\n    </tr>\n    <tr>\n      <th>158</th>\n      <td>Quartz featuring Dina Carroll</td>\n      <td>It's Too Late</td>\n      <td>NaN</td>\n      <td>Quartz featuring Dina Carroll</td>\n      <td>It's Too Late</td>\n      <td>Quartz</td>\n      <td>It’s Too Late</td>\n    </tr>\n    <tr>\n      <th>172</th>\n      <td>Soft Cell featuring Marc Almond</td>\n      <td>Tainted Love</td>\n      <td>NaN</td>\n      <td>Soft Cell featuring Marc Almond</td>\n      <td>Tainted Love</td>\n      <td>Soft Cell</td>\n      <td>Tainted Love</td>\n    </tr>\n    <tr>\n      <th>175</th>\n      <td>Xpansions</td>\n      <td>Move Your Body (Elevation)</td>\n      <td>NaN</td>\n      <td>Xpansions</td>\n      <td>Move Your Body (Elevation)</td>\n      <td>Xpansions</td>\n      <td>Move Your Body</td>\n    </tr>\n  </tbody>\n</table>\n</div>"
     },
     "metadata": {},
     "execution_count": 38
    }
   ],
   "source": [
    "nan_df_uk.head(20)"
   ]
  },
  {
   "cell_type": "code",
   "execution_count": 39,
   "metadata": {},
   "outputs": [],
   "source": [
    "with open(\"nan_df_uk_pickle\", \"wb\") as pfile:\n",
    "    pickle.dump(nan_df_uk, pfile)"
   ]
  },
  {
   "cell_type": "code",
   "execution_count": 40,
   "metadata": {},
   "outputs": [],
   "source": [
    "file = open('nan_df_uk_pickle', 'rb')\n",
    "nan_df_uk = pickle.load(file)"
   ]
  },
  {
   "cell_type": "code",
   "execution_count": null,
   "metadata": {},
   "outputs": [],
   "source": []
  }
 ]
}