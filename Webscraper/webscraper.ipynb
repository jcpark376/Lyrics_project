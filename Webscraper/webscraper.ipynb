{
 "metadata": {
  "language_info": {
   "codemirror_mode": {
    "name": "ipython",
    "version": 3
   },
   "file_extension": ".py",
   "mimetype": "text/x-python",
   "name": "python",
   "nbconvert_exporter": "python",
   "pygments_lexer": "ipython3",
   "version": "3.8.3-final"
  },
  "orig_nbformat": 2,
  "kernelspec": {
   "name": "Python 3.8.3 64-bit ('base': conda)",
   "display_name": "Python 3.8.3 64-bit ('base': conda)",
   "metadata": {
    "interpreter": {
     "hash": "a37621db6f99f75e4d2a47a248a6a71709dd01999a0a2eb01144ce85e79d4af1"
    }
   }
  }
 },
 "nbformat": 4,
 "nbformat_minor": 2,
 "cells": [
  {
   "source": [
    "## There will be three modules here\n",
    "-Module 1: scrape UK Year-End Singles Top 100 Chart information and turn into dataframe(Artist,Song)\n",
    "-Module 2: scrape Billboard Year-End Singles Top 100 Chart information and turn into dataframe(Artist,Song)\n",
    "-Module 3: use information to get lyrics to each song"
   ],
   "cell_type": "markdown",
   "metadata": {}
  },
  {
   "cell_type": "code",
   "execution_count": 80,
   "metadata": {},
   "outputs": [],
   "source": [
    "from bs4 import BeautifulSoup\n",
    "import requests\n",
    "import pandas as pd"
   ]
  },
  {
   "cell_type": "code",
   "execution_count": null,
   "metadata": {},
   "outputs": [],
   "source": []
  },
  {
   "cell_type": "code",
   "execution_count": null,
   "metadata": {},
   "outputs": [],
   "source": []
  },
  {
   "source": [
    "### Module 1: UK Top 100 song info into dataframe"
   ],
   "cell_type": "markdown",
   "metadata": {}
  },
  {
   "cell_type": "code",
   "execution_count": 81,
   "metadata": {
    "tags": []
   },
   "outputs": [],
   "source": [
    "def ukchart_to_df(url):\n",
    "    '''\n",
    "    Scrapes webpage that has year-end top 100 singles of the uk charts, turns into df\n",
    "\n",
    "    Input: str, url of uk-charts.top-source.info page that has the year-end 100 singles chart\n",
    "    Output: df, dataframe of 100 songs (artist, song)\n",
    "    '''\n",
    "    temp = requests.get(url)\n",
    "    soup = BeautifulSoup(temp.text)\n",
    "    \n",
    "    artists = []\n",
    "    songs = []\n",
    "    table = soup.find(\"table\").find(\"tbody\").find_all(\"tr\")\n",
    "    for r in range(100):\n",
    "        artist = table[r].find_all(\"td\")[1].get_text()\n",
    "        song = table[r].find_all(\"td\")[2].get_text()\n",
    "        artists.append(artist)\n",
    "        songs.append(song)\n",
    "\n",
    "    tuples_data = list(zip(artists, songs))\n",
    "    return pd.DataFrame(tuples_data, columns=['Artist','Song'])"
   ]
  },
  {
   "cell_type": "code",
   "execution_count": 82,
   "metadata": {},
   "outputs": [
    {
     "output_type": "execute_result",
     "data": {
      "text/plain": [
       "                            Artist                   Song\n",
       "0                    Lewis Capaldi      Someone You Loved\n",
       "1                        Lil Nas X          Old Town Road\n",
       "2                    Billie Eilish                bad guy\n",
       "3   Calvin Harris & Rag'n'Bone Man                  Giant\n",
       "4                        AJ Tracey         Ladbroke Grove\n",
       "..                             ...                    ...\n",
       "95    Taylor Swift Ft Brendon Urie                    ME!\n",
       "96          Jax Jones & Bebe Rexha                 Harder\n",
       "97                         Stormzy                  Crown\n",
       "98              Lauv Ft Anne-Marie       fuck, i'm lonely\n",
       "99       Jonas Blue Ft Theresa Rex  What I Like About You\n",
       "\n",
       "[100 rows x 2 columns]"
      ],
      "text/html": "<div>\n<style scoped>\n    .dataframe tbody tr th:only-of-type {\n        vertical-align: middle;\n    }\n\n    .dataframe tbody tr th {\n        vertical-align: top;\n    }\n\n    .dataframe thead th {\n        text-align: right;\n    }\n</style>\n<table border=\"1\" class=\"dataframe\">\n  <thead>\n    <tr style=\"text-align: right;\">\n      <th></th>\n      <th>Artist</th>\n      <th>Song</th>\n    </tr>\n  </thead>\n  <tbody>\n    <tr>\n      <th>0</th>\n      <td>Lewis Capaldi</td>\n      <td>Someone You Loved</td>\n    </tr>\n    <tr>\n      <th>1</th>\n      <td>Lil Nas X</td>\n      <td>Old Town Road</td>\n    </tr>\n    <tr>\n      <th>2</th>\n      <td>Billie Eilish</td>\n      <td>bad guy</td>\n    </tr>\n    <tr>\n      <th>3</th>\n      <td>Calvin Harris &amp; Rag'n'Bone Man</td>\n      <td>Giant</td>\n    </tr>\n    <tr>\n      <th>4</th>\n      <td>AJ Tracey</td>\n      <td>Ladbroke Grove</td>\n    </tr>\n    <tr>\n      <th>...</th>\n      <td>...</td>\n      <td>...</td>\n    </tr>\n    <tr>\n      <th>95</th>\n      <td>Taylor Swift Ft Brendon Urie</td>\n      <td>ME!</td>\n    </tr>\n    <tr>\n      <th>96</th>\n      <td>Jax Jones &amp; Bebe Rexha</td>\n      <td>Harder</td>\n    </tr>\n    <tr>\n      <th>97</th>\n      <td>Stormzy</td>\n      <td>Crown</td>\n    </tr>\n    <tr>\n      <th>98</th>\n      <td>Lauv Ft Anne-Marie</td>\n      <td>fuck, i'm lonely</td>\n    </tr>\n    <tr>\n      <th>99</th>\n      <td>Jonas Blue Ft Theresa Rex</td>\n      <td>What I Like About You</td>\n    </tr>\n  </tbody>\n</table>\n<p>100 rows × 2 columns</p>\n</div>"
     },
     "metadata": {},
     "execution_count": 82
    }
   ],
   "source": [
    "# testing above function on a single year\n",
    "chart_to_df('http://www.uk-charts.top-source.info/top-100-2019.shtml')"
   ]
  },
  {
   "cell_type": "code",
   "execution_count": 83,
   "metadata": {},
   "outputs": [],
   "source": [
    "# Use ukchart_to_df function to get songs from not just one year, but from 1990 - 2019\n",
    "uk_pops = pd.DataFrame()\n",
    "for yr in range(1990, 2020):\n",
    "    url = 'http://www.uk-charts.top-source.info/top-100-' + str(yr) + '.shtml'\n",
    "    df = ukchart_to_df(url)\n",
    "    uk_pops = uk_pops.append(df, ignore_index=True)"
   ]
  },
  {
   "cell_type": "code",
   "execution_count": 84,
   "metadata": {},
   "outputs": [
    {
     "output_type": "execute_result",
     "data": {
      "text/plain": [
       "(3000, 2)"
      ]
     },
     "metadata": {},
     "execution_count": 84
    }
   ],
   "source": [
    "uk_pops.shape"
   ]
  },
  {
   "cell_type": "code",
   "execution_count": 85,
   "metadata": {},
   "outputs": [
    {
     "output_type": "execute_result",
     "data": {
      "text/plain": [
       "(2798, 2)"
      ]
     },
     "metadata": {},
     "execution_count": 85
    }
   ],
   "source": [
    "# We now have 100 * 30 yrs = 3000 songs. Some songs appear in multiple years, so drop those.\n",
    "uk_pops = uk_pops.drop_duplicates(ignore_index=True)\n",
    "uk_pops.shape"
   ]
  },
  {
   "cell_type": "code",
   "execution_count": null,
   "metadata": {},
   "outputs": [],
   "source": []
  },
  {
   "cell_type": "code",
   "execution_count": null,
   "metadata": {},
   "outputs": [],
   "source": []
  },
  {
   "source": [
    "### Module 2: Billboard Top 100 song info into dataframe"
   ],
   "cell_type": "markdown",
   "metadata": {}
  },
  {
   "cell_type": "code",
   "execution_count": 112,
   "metadata": {},
   "outputs": [],
   "source": [
    "# similar workflow to Module 1\n",
    "def uschart_to_df(url):\n",
    "    '''\n",
    "    Scrapes webpage that has year-end top 100 singles of the uk charts, turns into df\n",
    "\n",
    "    Input: str, url of uk-charts.top-source.info page that has the year-end 100 singles chart\n",
    "    Output: df, dataframe of 100 songs (artist, song)\n",
    "    '''\n",
    "    temp = requests.get(url)\n",
    "    soup = BeautifulSoup(temp.text)\n",
    "    \n",
    "    artists = []\n",
    "    songs = []\n",
    "    table = soup.find(\"table\", {'class': \"wikitable sortable\"}).find(\"tbody\").find_all(\"tr\")\n",
    "    for r in range(1,101):\n",
    "        artist_raw = table[r].find_all(\"td\")[1].get_text()\n",
    "        song_raw = table[r].find_all(\"td\")[2].get_text()\n",
    "        #rid of quotations and linebreaks\n",
    "        artist = artist_raw[1:-1]\n",
    "        song = song_raw[:-1]\n",
    "        artists.append(artist)\n",
    "        songs.append(song)\n",
    "\n",
    "    tuples_data = list(zip(artists, songs))\n",
    "    return pd.DataFrame(tuples_data, columns=['Artist','Song'])"
   ]
  },
  {
   "cell_type": "code",
   "execution_count": 113,
   "metadata": {},
   "outputs": [
    {
     "output_type": "execute_result",
     "data": {
      "text/plain": [
       "                    Artist                             Song\n",
       "0                  Hold On                  Wilson Phillips\n",
       "1   It Must Have Been Love                          Roxette\n",
       "2     Nothing Compares 2 U                  Sinéad O'Connor\n",
       "3                   Poison                   Bell Biv DeVoe\n",
       "4                    Vogue                          Madonna\n",
       "..                     ...                              ...\n",
       "95             Without You                      Mötley Crüe\n",
       "96          Swing the Mood  Jive Bunny and the Mastermixers\n",
       "97   Thieves in the Temple                           Prince\n",
       "98               Mentirosa                   Mellow Man Ace\n",
       "99             Tic-Tac-Toe                            Kyper\n",
       "\n",
       "[100 rows x 2 columns]"
      ],
      "text/html": "<div>\n<style scoped>\n    .dataframe tbody tr th:only-of-type {\n        vertical-align: middle;\n    }\n\n    .dataframe tbody tr th {\n        vertical-align: top;\n    }\n\n    .dataframe thead th {\n        text-align: right;\n    }\n</style>\n<table border=\"1\" class=\"dataframe\">\n  <thead>\n    <tr style=\"text-align: right;\">\n      <th></th>\n      <th>Artist</th>\n      <th>Song</th>\n    </tr>\n  </thead>\n  <tbody>\n    <tr>\n      <th>0</th>\n      <td>Hold On</td>\n      <td>Wilson Phillips</td>\n    </tr>\n    <tr>\n      <th>1</th>\n      <td>It Must Have Been Love</td>\n      <td>Roxette</td>\n    </tr>\n    <tr>\n      <th>2</th>\n      <td>Nothing Compares 2 U</td>\n      <td>Sinéad O'Connor</td>\n    </tr>\n    <tr>\n      <th>3</th>\n      <td>Poison</td>\n      <td>Bell Biv DeVoe</td>\n    </tr>\n    <tr>\n      <th>4</th>\n      <td>Vogue</td>\n      <td>Madonna</td>\n    </tr>\n    <tr>\n      <th>...</th>\n      <td>...</td>\n      <td>...</td>\n    </tr>\n    <tr>\n      <th>95</th>\n      <td>Without You</td>\n      <td>Mötley Crüe</td>\n    </tr>\n    <tr>\n      <th>96</th>\n      <td>Swing the Mood</td>\n      <td>Jive Bunny and the Mastermixers</td>\n    </tr>\n    <tr>\n      <th>97</th>\n      <td>Thieves in the Temple</td>\n      <td>Prince</td>\n    </tr>\n    <tr>\n      <th>98</th>\n      <td>Mentirosa</td>\n      <td>Mellow Man Ace</td>\n    </tr>\n    <tr>\n      <th>99</th>\n      <td>Tic-Tac-Toe</td>\n      <td>Kyper</td>\n    </tr>\n  </tbody>\n</table>\n<p>100 rows × 2 columns</p>\n</div>"
     },
     "metadata": {},
     "execution_count": 113
    }
   ],
   "source": [
    "uschart_to_df('https://en.wikipedia.org/wiki/Billboard_Year-End_Hot_100_singles_of_1990')"
   ]
  },
  {
   "cell_type": "code",
   "execution_count": 114,
   "metadata": {},
   "outputs": [
    {
     "output_type": "stream",
     "name": "stdout",
     "text": [
      "1990\n",
      "1991\n",
      "1992\n",
      "1993\n",
      "1994\n",
      "1995\n",
      "1996\n",
      "1997\n",
      "1998\n",
      "1999\n",
      "2000\n",
      "2001\n",
      "2002\n",
      "2003\n",
      "2004\n",
      "2005\n",
      "2006\n",
      "2007\n",
      "2008\n",
      "2009\n",
      "2010\n",
      "2011\n",
      "2012\n",
      "2013\n",
      "2014\n",
      "2015\n",
      "2016\n",
      "2017\n",
      "2018\n",
      "2019\n"
     ]
    }
   ],
   "source": [
    "# get all songs from 1990 - 2019 and concat\n",
    "us_pops = pd.DataFrame()\n",
    "for yr in range(1990, 2020):\n",
    "    url = 'https://en.wikipedia.org/wiki/Billboard_Year-End_Hot_100_singles_of_' + str(yr)\n",
    "    df = uschart_to_df(url)\n",
    "    us_pops = us_pops.append(df, ignore_index=True)"
   ]
  },
  {
   "cell_type": "code",
   "execution_count": null,
   "metadata": {},
   "outputs": [],
   "source": [
    "us_pops"
   ]
  },
  {
   "cell_type": "code",
   "execution_count": null,
   "metadata": {},
   "outputs": [],
   "source": []
  }
 ]
}