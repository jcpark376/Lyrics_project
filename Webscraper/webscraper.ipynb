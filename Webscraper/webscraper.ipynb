{
 "metadata": {
  "language_info": {
   "codemirror_mode": {
    "name": "ipython",
    "version": 3
   },
   "file_extension": ".py",
   "mimetype": "text/x-python",
   "name": "python",
   "nbconvert_exporter": "python",
   "pygments_lexer": "ipython3",
   "version": "3.8.5-final"
  },
  "orig_nbformat": 2,
  "kernelspec": {
   "name": "python3",
   "display_name": "Python 3.8.5 64-bit ('base': conda)",
   "metadata": {
    "interpreter": {
     "hash": "a37621db6f99f75e4d2a47a248a6a71709dd01999a0a2eb01144ce85e79d4af1"
    }
   }
  }
 },
 "nbformat": 4,
 "nbformat_minor": 2,
 "cells": [
  {
   "source": [
    "## There will be three modules here\n",
    "-Module 1: scrape UK Year-End Singles Top 100 Chart information and turn into dataframe(Artist,Song)\n",
    "-Module 2: scrape Billboard Year-End Singles Top 100 Chart information and turn into dataframe(Artist,Song)\n",
    "-Module 3: use information to get lyrics to each song using the LyricsGenius API (warning: takes a very long time)"
   ],
   "cell_type": "markdown",
   "metadata": {}
  },
  {
   "cell_type": "code",
   "execution_count": 1,
   "metadata": {},
   "outputs": [],
   "source": [
    "from bs4 import BeautifulSoup\n",
    "import requests\n",
    "import pandas as pd\n",
    "import pickle\n",
    "\n",
    "import lyricsgenius\n",
    "genius = lyricsgenius.Genius(\"41z411tnPlBcKcTj1tsewXPVS72_XhicyVLelIdCOf0BQLBxpEO8YygDX-pa1HR5\") #token for API Access"
   ]
  },
  {
   "cell_type": "code",
   "execution_count": null,
   "metadata": {},
   "outputs": [],
   "source": []
  },
  {
   "cell_type": "code",
   "execution_count": null,
   "metadata": {},
   "outputs": [],
   "source": []
  },
  {
   "source": [
    "### Module 1: UK Top 100 song info into dataframe"
   ],
   "cell_type": "markdown",
   "metadata": {}
  },
  {
   "cell_type": "code",
   "execution_count": 2,
   "metadata": {
    "tags": []
   },
   "outputs": [],
   "source": [
    "def ukchart_to_df(url):\n",
    "    '''\n",
    "    Scrapes a webpage that has year-end top 100 singles of the uk charts, turns into df\n",
    "\n",
    "    Input: str. A url of 'uk-charts.top-source.info' page that has the year-end 100 singles chart\n",
    "    Output: df. Dataframe of 100 songs (artist, song)\n",
    "    '''\n",
    "    temp = requests.get(url)\n",
    "    soup = BeautifulSoup(temp.text)\n",
    "    \n",
    "    artists = []\n",
    "    songs = []\n",
    "    table = soup.find(\"table\").find(\"tbody\").find_all(\"tr\")\n",
    "    for r in range(100):\n",
    "        artist = table[r].find_all(\"td\")[1].get_text()\n",
    "        song = table[r].find_all(\"td\")[2].get_text()\n",
    "        artists.append(artist)\n",
    "        songs.append(song)\n",
    "\n",
    "    tuples_data = list(zip(artists, songs))\n",
    "    return pd.DataFrame(tuples_data, columns=['Artist','Song'])"
   ]
  },
  {
   "cell_type": "code",
   "execution_count": 3,
   "metadata": {},
   "outputs": [
    {
     "output_type": "execute_result",
     "data": {
      "text/plain": [
       "                            Artist                   Song\n",
       "0                    Lewis Capaldi      Someone You Loved\n",
       "1                        Lil Nas X          Old Town Road\n",
       "2                    Billie Eilish                bad guy\n",
       "3   Calvin Harris & Rag'n'Bone Man                  Giant\n",
       "4                        AJ Tracey         Ladbroke Grove\n",
       "..                             ...                    ...\n",
       "95    Taylor Swift Ft Brendon Urie                    ME!\n",
       "96          Jax Jones & Bebe Rexha                 Harder\n",
       "97                         Stormzy                  Crown\n",
       "98              Lauv Ft Anne-Marie       fuck, i'm lonely\n",
       "99       Jonas Blue Ft Theresa Rex  What I Like About You\n",
       "\n",
       "[100 rows x 2 columns]"
      ],
      "text/html": "<div>\n<style scoped>\n    .dataframe tbody tr th:only-of-type {\n        vertical-align: middle;\n    }\n\n    .dataframe tbody tr th {\n        vertical-align: top;\n    }\n\n    .dataframe thead th {\n        text-align: right;\n    }\n</style>\n<table border=\"1\" class=\"dataframe\">\n  <thead>\n    <tr style=\"text-align: right;\">\n      <th></th>\n      <th>Artist</th>\n      <th>Song</th>\n    </tr>\n  </thead>\n  <tbody>\n    <tr>\n      <th>0</th>\n      <td>Lewis Capaldi</td>\n      <td>Someone You Loved</td>\n    </tr>\n    <tr>\n      <th>1</th>\n      <td>Lil Nas X</td>\n      <td>Old Town Road</td>\n    </tr>\n    <tr>\n      <th>2</th>\n      <td>Billie Eilish</td>\n      <td>bad guy</td>\n    </tr>\n    <tr>\n      <th>3</th>\n      <td>Calvin Harris &amp; Rag'n'Bone Man</td>\n      <td>Giant</td>\n    </tr>\n    <tr>\n      <th>4</th>\n      <td>AJ Tracey</td>\n      <td>Ladbroke Grove</td>\n    </tr>\n    <tr>\n      <th>...</th>\n      <td>...</td>\n      <td>...</td>\n    </tr>\n    <tr>\n      <th>95</th>\n      <td>Taylor Swift Ft Brendon Urie</td>\n      <td>ME!</td>\n    </tr>\n    <tr>\n      <th>96</th>\n      <td>Jax Jones &amp; Bebe Rexha</td>\n      <td>Harder</td>\n    </tr>\n    <tr>\n      <th>97</th>\n      <td>Stormzy</td>\n      <td>Crown</td>\n    </tr>\n    <tr>\n      <th>98</th>\n      <td>Lauv Ft Anne-Marie</td>\n      <td>fuck, i'm lonely</td>\n    </tr>\n    <tr>\n      <th>99</th>\n      <td>Jonas Blue Ft Theresa Rex</td>\n      <td>What I Like About You</td>\n    </tr>\n  </tbody>\n</table>\n<p>100 rows × 2 columns</p>\n</div>"
     },
     "metadata": {},
     "execution_count": 3
    }
   ],
   "source": [
    "# testing above function on a single year (i.e. single page)\n",
    "ukchart_to_df('http://www.uk-charts.top-source.info/top-100-2019.shtml')"
   ]
  },
  {
   "cell_type": "code",
   "execution_count": 4,
   "metadata": {},
   "outputs": [],
   "source": [
    "# Use ukchart_to_df function to get songs from not just one year, but from 1990 - 2019\n",
    "uk_pops = pd.DataFrame()\n",
    "for yr in range(1990, 2020):\n",
    "    url = 'http://www.uk-charts.top-source.info/top-100-' + str(yr) + '.shtml'\n",
    "    df = ukchart_to_df(url)\n",
    "    uk_pops = uk_pops.append(df, ignore_index=True)"
   ]
  },
  {
   "cell_type": "code",
   "execution_count": 5,
   "metadata": {},
   "outputs": [
    {
     "output_type": "execute_result",
     "data": {
      "text/plain": [
       "(3000, 2)"
      ]
     },
     "metadata": {},
     "execution_count": 5
    }
   ],
   "source": [
    "uk_pops.shape"
   ]
  },
  {
   "cell_type": "code",
   "execution_count": 6,
   "metadata": {},
   "outputs": [
    {
     "output_type": "execute_result",
     "data": {
      "text/plain": [
       "(2798, 2)"
      ]
     },
     "metadata": {},
     "execution_count": 6
    }
   ],
   "source": [
    "# We now have 100 * 30 yrs = 3000 songs. Some songs appear in multiple years, so drop those.\n",
    "uk_pops = uk_pops.drop_duplicates(ignore_index=True)\n",
    "uk_pops.shape"
   ]
  },
  {
   "cell_type": "code",
   "execution_count": null,
   "metadata": {},
   "outputs": [],
   "source": []
  },
  {
   "cell_type": "code",
   "execution_count": null,
   "metadata": {},
   "outputs": [],
   "source": []
  },
  {
   "source": [
    "### Module 2: Billboard Top 100 song info into dataframe"
   ],
   "cell_type": "markdown",
   "metadata": {}
  },
  {
   "cell_type": "code",
   "execution_count": 2,
   "metadata": {},
   "outputs": [],
   "source": [
    "# similar workflow to Module 1\n",
    "def uschart_to_df(url):\n",
    "    '''\n",
    "    Scrapes webpage that has year-end top 100 singles of the uk charts, turns into df\n",
    "\n",
    "    Input: str, url of uk-charts.top-source.info page that has the year-end 100 singles chart\n",
    "    Output: df, dataframe of 100 songs (artist, song)\n",
    "    '''\n",
    "    temp = requests.get(url)\n",
    "    soup = BeautifulSoup(temp.text)\n",
    "    \n",
    "    artists = []\n",
    "    songs = []\n",
    "    table = soup.find(\"table\", {'class': \"wikitable sortable\"}).find(\"tbody\").find_all(\"tr\")\n",
    "    for r in range(1,101):\n",
    "        song_raw = table[r].find_all(\"td\")[1].get_text()\n",
    "        artist_raw = table[r].find_all(\"td\")[2].get_text()\n",
    "        #rid of quotations and linebreaks\n",
    "        artist = artist_raw[:-1]\n",
    "        song = song_raw[1:-1]\n",
    "        artists.append(artist)\n",
    "        songs.append(song)\n",
    "\n",
    "    tuples_data = list(zip(artists, songs))\n",
    "    return pd.DataFrame(tuples_data, columns=['Artist','Song'])"
   ]
  },
  {
   "cell_type": "code",
   "execution_count": 3,
   "metadata": {},
   "outputs": [
    {
     "output_type": "execute_result",
     "data": {
      "text/plain": [
       "                             Artist                    Song\n",
       "0                   Wilson Phillips                 Hold On\n",
       "1                           Roxette  It Must Have Been Love\n",
       "2                   Sinéad O'Connor    Nothing Compares 2 U\n",
       "3                    Bell Biv DeVoe                  Poison\n",
       "4                           Madonna                   Vogue\n",
       "..                              ...                     ...\n",
       "95                      Mötley Crüe             Without You\n",
       "96  Jive Bunny and the Mastermixers          Swing the Mood\n",
       "97                           Prince   Thieves in the Temple\n",
       "98                   Mellow Man Ace               Mentirosa\n",
       "99                            Kyper             Tic-Tac-Toe\n",
       "\n",
       "[100 rows x 2 columns]"
      ],
      "text/html": "<div>\n<style scoped>\n    .dataframe tbody tr th:only-of-type {\n        vertical-align: middle;\n    }\n\n    .dataframe tbody tr th {\n        vertical-align: top;\n    }\n\n    .dataframe thead th {\n        text-align: right;\n    }\n</style>\n<table border=\"1\" class=\"dataframe\">\n  <thead>\n    <tr style=\"text-align: right;\">\n      <th></th>\n      <th>Artist</th>\n      <th>Song</th>\n    </tr>\n  </thead>\n  <tbody>\n    <tr>\n      <th>0</th>\n      <td>Wilson Phillips</td>\n      <td>Hold On</td>\n    </tr>\n    <tr>\n      <th>1</th>\n      <td>Roxette</td>\n      <td>It Must Have Been Love</td>\n    </tr>\n    <tr>\n      <th>2</th>\n      <td>Sinéad O'Connor</td>\n      <td>Nothing Compares 2 U</td>\n    </tr>\n    <tr>\n      <th>3</th>\n      <td>Bell Biv DeVoe</td>\n      <td>Poison</td>\n    </tr>\n    <tr>\n      <th>4</th>\n      <td>Madonna</td>\n      <td>Vogue</td>\n    </tr>\n    <tr>\n      <th>...</th>\n      <td>...</td>\n      <td>...</td>\n    </tr>\n    <tr>\n      <th>95</th>\n      <td>Mötley Crüe</td>\n      <td>Without You</td>\n    </tr>\n    <tr>\n      <th>96</th>\n      <td>Jive Bunny and the Mastermixers</td>\n      <td>Swing the Mood</td>\n    </tr>\n    <tr>\n      <th>97</th>\n      <td>Prince</td>\n      <td>Thieves in the Temple</td>\n    </tr>\n    <tr>\n      <th>98</th>\n      <td>Mellow Man Ace</td>\n      <td>Mentirosa</td>\n    </tr>\n    <tr>\n      <th>99</th>\n      <td>Kyper</td>\n      <td>Tic-Tac-Toe</td>\n    </tr>\n  </tbody>\n</table>\n<p>100 rows × 2 columns</p>\n</div>"
     },
     "metadata": {},
     "execution_count": 3
    }
   ],
   "source": [
    "uschart_to_df('https://en.wikipedia.org/wiki/Billboard_Year-End_Hot_100_singles_of_1990')"
   ]
  },
  {
   "cell_type": "code",
   "execution_count": 4,
   "metadata": {},
   "outputs": [],
   "source": [
    "# get all songs from 1990 - 2019 and concat\n",
    "us_pops = pd.DataFrame()\n",
    "for yr in range(1990, 2020):\n",
    "    url = 'https://en.wikipedia.org/wiki/Billboard_Year-End_Hot_100_singles_of_' + str(yr)\n",
    "    df = uschart_to_df(url)\n",
    "    us_pops = us_pops.append(df, ignore_index=True)"
   ]
  },
  {
   "cell_type": "code",
   "execution_count": 5,
   "metadata": {},
   "outputs": [
    {
     "output_type": "execute_result",
     "data": {
      "text/plain": [
       "(3000, 2)"
      ]
     },
     "metadata": {},
     "execution_count": 5
    }
   ],
   "source": [
    "us_pops.shape"
   ]
  },
  {
   "cell_type": "code",
   "execution_count": 6,
   "metadata": {},
   "outputs": [
    {
     "output_type": "execute_result",
     "data": {
      "text/plain": [
       "(2755, 2)"
      ]
     },
     "metadata": {},
     "execution_count": 6
    }
   ],
   "source": [
    "# We now have 100 * 30 yrs = 3000 songs. Some songs appear in multiple years, so drop those.\n",
    "us_pops = us_pops.drop_duplicates(ignore_index=True)\n",
    "us_pops.shape"
   ]
  },
  {
   "cell_type": "code",
   "execution_count": null,
   "metadata": {},
   "outputs": [],
   "source": []
  },
  {
   "cell_type": "code",
   "execution_count": null,
   "metadata": {},
   "outputs": [],
   "source": []
  },
  {
   "source": [
    "### Module 3: Get lyrics from Genius API"
   ],
   "cell_type": "markdown",
   "metadata": {}
  },
  {
   "source": [
    "# This cell configures the LyricsGenius API into getting lyrics in more amenable format\n",
    "\n",
    "# Turn off status messages\n",
    "genius.verbose = False\n",
    "# Remove section headers (e.g. [Chorus]) from lyrics when searching\n",
    "genius.remove_section_headers = True\n",
    "# Exclude songs with these words in their title\n",
    "genius.excluded_terms = [\"(Remix)\", \"(Live)\"]"
   ],
   "cell_type": "code",
   "metadata": {},
   "execution_count": 7,
   "outputs": []
  },
  {
   "source": [
    "# Let's canvass how this API works\n",
    "song = genius.search_song(\"Vogue\", \"Madonna\")\n",
    "print(song.lyrics)"
   ],
   "cell_type": "code",
   "metadata": {},
   "execution_count": 8,
   "outputs": [
    {
     "output_type": "stream",
     "name": "stdout",
     "text": [
      "Strike a pose\nStrike a pose\nVogue (vogue, vogue)\nVogue (vogue, vogue)\n\nLook around, everywhere you turn is heartache\nIt's everywhere that you go (look around)\nYou try everything you can to escape\nThe pain of life that you know (life that you know)\nWhen all else fails and you long to be\nSomething better than you are today\nI know a place where you can get away\nIt's called a dance floor, and here's what it's for, so\n\nCome on, vogue\nLet your body move to the music (move to the music)\nHey, hey, hey\nCome on, vogue\nLet your body go with the flow (go with the flow)\nYou know you can do it\n\nAll you need is your own imagination\nSo use it that's what it's for (that's what it's for)\nGo inside, for your finest inspiration\nYour dreams will open the door (open up the door)\nIt makes no difference if you're black or white\nIf you're a boy or a girl\nIf the music's pumping it will give you life\nYou're a superstar, yes, that's what you are, you know it\n\nCome on, vogue\nLet your body groove to the music (groove to the music)\nHey, hey, hey\nCome on, vogue\nLet your body go with the flow (go with the flow)\nYou know you can do it\n\nBeauty's where you find it\nNot just where you bump and grind it\nSoul is in the musical\nThat's where I feel so beautiful\nMagical, life's a ball\nSo get up on the dance floor\n\nCome on, vogue\nLet your body move to the music (move to the music)\nHey, hey, hey\nCome on, vogue\nLet your body go with the flow (go with the flow)\nYou know you can do it\n\nVogue, (Vogue)\nBeauty's where you find it (move to the music)\nVogue, (Vogue)\nBeauty's where you find it (go with the flow)\n\nGreta Garbo, and Monroe\nDietrich and DiMaggio\nMarlon Brando, Jimmy Dean\nOn the cover of a magazine\nGrace Kelly, Harlow, Jean\nPicture of a beauty queen\nGene Kelly, Fred Astaire\nGinger Rogers dance on air,\nThey had style, they had grace\nRita Hayworth gave good face\nLauren, Katharine, Lana too\nBette Davis, we love you\nLadies with an attitude\nFellas that were in the mood\nDon't just stand there, let's get to it\nStrike a pose, there's nothing to it\n\nVogue, vogue\nVogue, vogue\n(Move to the music)\nVogue, vogue\nVogue, vogue\n(Go with the flow)\n\nOooh, you've got to\nLet your body move to the music\nOooh, you've got to just\nLet your body go with the flow\nOooh, you've got to just\nVogue\n"
     ]
    }
   ]
  },
  {
   "source": [
    "#### Looks pretty good. Will add a 'Lyrics' column to both us_pops and uk_pops dataframes (containing raw lyrics), and save BOTH df as pickled files.\n",
    "#### This section takes many hours if carried out in entirety."
   ],
   "cell_type": "markdown",
   "metadata": {}
  },
  {
   "source": [
    "# for the US_pops portion\n",
    "for i in range(len(us_pops)):\n",
    "    song = genius.search_song(us_pops.iloc[i, 1], us_pops.iloc[i, 0])\n",
    "    \n",
    "    try:\n",
    "        us_pops.at[i, 'Lyrics'] = song.lyrics\n",
    "    except AttributeError: \n",
    "    #there is no 'song' object, meaning the artist/song combination has not been found\n",
    "        print('passed')\n",
    "        pass\n",
    "\n",
    "    #progress printer\n",
    "    if i%10 == 0:\n",
    "        print(i)\n",
    "        print(us_pops.iloc[i,2] == 'NaN')"
   ],
   "cell_type": "code",
   "metadata": {},
   "execution_count": null,
   "outputs": []
  },
  {
   "cell_type": "code",
   "execution_count": 27,
   "metadata": {},
   "outputs": [],
   "source": [
    "file = open('us_pops_raw', 'wb')\n",
    "pickle.dump(us_pops, file)\n",
    "file.close()"
   ]
  },
  {
   "source": [
    "#### "
   ],
   "cell_type": "markdown",
   "metadata": {}
  },
  {
   "cell_type": "code",
   "execution_count": null,
   "metadata": {},
   "outputs": [],
   "source": []
  },
  {
   "source": [
    "# for the UK_pops portion\n",
    "for i in range(2000, len(uk_pops)):\n",
    "    song = genius.search_song(uk_pops.iloc[i, 1], uk_pops.iloc[i, 0])\n",
    "    \n",
    "    try:\n",
    "        uk_pops.at[i, 'Lyrics'] = song.lyrics\n",
    "    except AttributeError:\n",
    "    #there is no 'song' object, meaning the artist/song combination has not been found\n",
    "        print('passed ' + str(i))\n",
    "        pass\n",
    "\n",
    "    #progress printer\n",
    "    if i%10 == 0:\n",
    "        print(i)\n",
    "        print(uk_pops.iloc[i,2] == 'NaN')"
   ],
   "cell_type": "code",
   "metadata": {},
   "execution_count": null,
   "outputs": []
  },
  {
   "cell_type": "code",
   "execution_count": 26,
   "metadata": {},
   "outputs": [],
   "source": [
    "file = open('uk_pops_raw', 'wb')\n",
    "pickle.dump(uk_pops, file)\n",
    "file.close()"
   ]
  },
  {
   "cell_type": "code",
   "execution_count": null,
   "metadata": {},
   "outputs": [],
   "source": []
  }
 ]
}